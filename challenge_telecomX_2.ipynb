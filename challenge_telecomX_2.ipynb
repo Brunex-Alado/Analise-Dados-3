{
  "cells": [
    {
      "cell_type": "markdown",
      "metadata": {
        "id": "aHJqIZuF6XlY"
      },
      "source": [
        "<center>\n",
        "<b><font size=\"10\">Telecom X - Parte 2: Previsão de Churn</font></b>\n",
        "</center>\n",
        "\n",
        "<br/>\n",
        "\n",
        "<center>\n",
        "<b><font color=\"MediumPurple\" size=\"6\">Prevendo Cancelamento</font></b>\n",
        "</center>\n"
      ]
    },
    {
      "cell_type": "markdown",
      "metadata": {
        "id": "HN-SjMPHzgEh"
      },
      "source": [
        "🎯 <b><font color=\"MediumPurple\">MISSÃO:</font></b>\n",
        "\n",
        " - Desenvolver **modelos preditivos** capazes de prever quais clientes têm maior chance de cancelar seus serviços.\n",
        "\n",
        " - A empresa quer **antecipar o problema da evasão**, assim será construído um pipeline robusto para essa etapa inicial de modelagem."
      ]
    },
    {
      "cell_type": "markdown",
      "metadata": {
        "id": "D07MID_1zhXk"
      },
      "source": [
        "🧠 <b><font color=\"MediumPurple\">OBJETIVO DO DESAFIO:</font></b>\n",
        "\n",
        " - Preparar os dados para a **modelagem** (*tratamento, encoding, normalização*).\n",
        "\n",
        " - Realizar **análise de correlação** e seleção de variáveis.\n",
        "\n",
        " - Treinar dois ou mais modelos de classificação.\n",
        "\n",
        " - Avaliar o desempenho dos modelos com **métricas**.\n",
        "\n",
        " - **Interpretar os resultados**, incluindo a importância das variáveis.\n",
        "\n",
        " - Criar uma **conclusão estratégica** apontando os principais fatores que influenciam a evasão."
      ]
    },
    {
      "cell_type": "markdown",
      "metadata": {
        "id": "cds767N5x7R3"
      },
      "source": [
        "🧰 <b><font color=\"MediumPurple\">SERÁ TRABALHADO NESTE DESAFIO:</font></b>\n",
        "\n",
        " - ✅ Pré-processamento de dados para Machine Learning\n",
        "\n",
        " - ✅ Construção e avaliação de modelos preditivos\n",
        "\n",
        " - ✅ Interpretação dos resultados e entrega de insights\n",
        "\n",
        " - ✅ Comunicação técnica com foco estratégico"
      ]
    },
    {
      "cell_type": "markdown",
      "metadata": {
        "id": "4foVEKhrlqcH"
      },
      "source": [
        "#📌 <b><font color=\"MediumPurple\" size=\"6\">EXTRAÇÃO</font></b>\n",
        "\n",
        "\n",
        "---\n",
        "\n"
      ]
    },
    {
      "cell_type": "markdown",
      "metadata": {
        "id": "wPg7kFsa9_6v"
      },
      "source": [
        "Para iniciar análise, importado os [dados da API da Telecom X](https://raw.githubusercontent.com/Brunex-Alado/Analise-Dados-3/refs/heads/main/dados_tratados.csv). Esses dados estão disponíveis no formato `CSV` e contêm as informações já tratadas."
      ]
    },
    {
      "cell_type": "code",
      "execution_count": 92,
      "metadata": {
        "id": "z-zadYdjKH3I"
      },
      "outputs": [],
      "source": [
        "import pandas as pd\n",
        "import requests\n",
        "import json\n",
        "import matplotlib.pyplot as plt\n",
        "import seaborn as sns\n",
        "import numpy as np\n",
        "from IPython.display import display, HTML\n"
      ]
    },
    {
      "cell_type": "code",
      "execution_count": 93,
      "metadata": {
        "colab": {
          "base_uri": "https://localhost:8080/",
          "height": 412
        },
        "id": "NYCaTCmZAuq7",
        "outputId": "312df0d5-b212-4736-e59d-6208492aed30"
      },
      "outputs": [
        {
          "data": {
            "text/html": [
              "<div>\n",
              "<style scoped>\n",
              "    .dataframe tbody tr th:only-of-type {\n",
              "        vertical-align: middle;\n",
              "    }\n",
              "\n",
              "    .dataframe tbody tr th {\n",
              "        vertical-align: top;\n",
              "    }\n",
              "\n",
              "    .dataframe thead th {\n",
              "        text-align: right;\n",
              "    }\n",
              "</style>\n",
              "<table border=\"1\" class=\"dataframe\">\n",
              "  <thead>\n",
              "    <tr style=\"text-align: right;\">\n",
              "      <th></th>\n",
              "      <th>ID_Cliente</th>\n",
              "      <th>Cancelamento</th>\n",
              "      <th>Gênero</th>\n",
              "      <th>Idoso</th>\n",
              "      <th>Possui_Companheiro</th>\n",
              "      <th>Possui_Dependentes</th>\n",
              "      <th>Meses_de_Contrato</th>\n",
              "      <th>Telefone_Ativo</th>\n",
              "      <th>Multiplas_Linhas</th>\n",
              "      <th>Tipo_Internet</th>\n",
              "      <th>...</th>\n",
              "      <th>Suporte_Tecnico</th>\n",
              "      <th>Streaming_TV</th>\n",
              "      <th>Streaming_Filmes</th>\n",
              "      <th>Tipo_Contrato</th>\n",
              "      <th>Fatura_Digital</th>\n",
              "      <th>Forma_Pagamento</th>\n",
              "      <th>Valor_Mensal</th>\n",
              "      <th>Valor_Total</th>\n",
              "      <th>tempo_estimado_meses</th>\n",
              "      <th>Conta_Diarias</th>\n",
              "    </tr>\n",
              "  </thead>\n",
              "  <tbody>\n",
              "    <tr>\n",
              "      <th>0</th>\n",
              "      <td>0002-ORFBO</td>\n",
              "      <td>No</td>\n",
              "      <td>Female</td>\n",
              "      <td>0</td>\n",
              "      <td>Yes</td>\n",
              "      <td>Yes</td>\n",
              "      <td>9</td>\n",
              "      <td>Yes</td>\n",
              "      <td>No</td>\n",
              "      <td>DSL</td>\n",
              "      <td>...</td>\n",
              "      <td>Yes</td>\n",
              "      <td>Yes</td>\n",
              "      <td>No</td>\n",
              "      <td>One year</td>\n",
              "      <td>Yes</td>\n",
              "      <td>Mailed check</td>\n",
              "      <td>65.6</td>\n",
              "      <td>593.30</td>\n",
              "      <td>9.044207</td>\n",
              "      <td>2.186667</td>\n",
              "    </tr>\n",
              "    <tr>\n",
              "      <th>1</th>\n",
              "      <td>0003-MKNFE</td>\n",
              "      <td>No</td>\n",
              "      <td>Male</td>\n",
              "      <td>0</td>\n",
              "      <td>No</td>\n",
              "      <td>No</td>\n",
              "      <td>9</td>\n",
              "      <td>Yes</td>\n",
              "      <td>Yes</td>\n",
              "      <td>DSL</td>\n",
              "      <td>...</td>\n",
              "      <td>No</td>\n",
              "      <td>No</td>\n",
              "      <td>Yes</td>\n",
              "      <td>Month-to-month</td>\n",
              "      <td>No</td>\n",
              "      <td>Mailed check</td>\n",
              "      <td>59.9</td>\n",
              "      <td>542.40</td>\n",
              "      <td>9.055092</td>\n",
              "      <td>1.996667</td>\n",
              "    </tr>\n",
              "    <tr>\n",
              "      <th>2</th>\n",
              "      <td>0004-TLHLJ</td>\n",
              "      <td>Yes</td>\n",
              "      <td>Male</td>\n",
              "      <td>0</td>\n",
              "      <td>No</td>\n",
              "      <td>No</td>\n",
              "      <td>4</td>\n",
              "      <td>Yes</td>\n",
              "      <td>No</td>\n",
              "      <td>Fiber optic</td>\n",
              "      <td>...</td>\n",
              "      <td>No</td>\n",
              "      <td>No</td>\n",
              "      <td>No</td>\n",
              "      <td>Month-to-month</td>\n",
              "      <td>Yes</td>\n",
              "      <td>Electronic check</td>\n",
              "      <td>73.9</td>\n",
              "      <td>280.85</td>\n",
              "      <td>3.800406</td>\n",
              "      <td>2.463333</td>\n",
              "    </tr>\n",
              "    <tr>\n",
              "      <th>3</th>\n",
              "      <td>0011-IGKFF</td>\n",
              "      <td>Yes</td>\n",
              "      <td>Male</td>\n",
              "      <td>1</td>\n",
              "      <td>Yes</td>\n",
              "      <td>No</td>\n",
              "      <td>13</td>\n",
              "      <td>Yes</td>\n",
              "      <td>No</td>\n",
              "      <td>Fiber optic</td>\n",
              "      <td>...</td>\n",
              "      <td>No</td>\n",
              "      <td>Yes</td>\n",
              "      <td>Yes</td>\n",
              "      <td>Month-to-month</td>\n",
              "      <td>Yes</td>\n",
              "      <td>Electronic check</td>\n",
              "      <td>98.0</td>\n",
              "      <td>1237.85</td>\n",
              "      <td>12.631122</td>\n",
              "      <td>3.266667</td>\n",
              "    </tr>\n",
              "    <tr>\n",
              "      <th>4</th>\n",
              "      <td>0013-EXCHZ</td>\n",
              "      <td>Yes</td>\n",
              "      <td>Female</td>\n",
              "      <td>1</td>\n",
              "      <td>Yes</td>\n",
              "      <td>No</td>\n",
              "      <td>3</td>\n",
              "      <td>Yes</td>\n",
              "      <td>No</td>\n",
              "      <td>Fiber optic</td>\n",
              "      <td>...</td>\n",
              "      <td>Yes</td>\n",
              "      <td>Yes</td>\n",
              "      <td>No</td>\n",
              "      <td>Month-to-month</td>\n",
              "      <td>Yes</td>\n",
              "      <td>Mailed check</td>\n",
              "      <td>83.9</td>\n",
              "      <td>267.40</td>\n",
              "      <td>3.187128</td>\n",
              "      <td>2.796667</td>\n",
              "    </tr>\n",
              "  </tbody>\n",
              "</table>\n",
              "<p>5 rows × 23 columns</p>\n",
              "</div>"
            ],
            "text/plain": [
              "   ID_Cliente Cancelamento  Gênero  Idoso Possui_Companheiro  \\\n",
              "0  0002-ORFBO           No  Female      0                Yes   \n",
              "1  0003-MKNFE           No    Male      0                 No   \n",
              "2  0004-TLHLJ          Yes    Male      0                 No   \n",
              "3  0011-IGKFF          Yes    Male      1                Yes   \n",
              "4  0013-EXCHZ          Yes  Female      1                Yes   \n",
              "\n",
              "  Possui_Dependentes  Meses_de_Contrato Telefone_Ativo Multiplas_Linhas  \\\n",
              "0                Yes                  9            Yes               No   \n",
              "1                 No                  9            Yes              Yes   \n",
              "2                 No                  4            Yes               No   \n",
              "3                 No                 13            Yes               No   \n",
              "4                 No                  3            Yes               No   \n",
              "\n",
              "  Tipo_Internet  ... Suporte_Tecnico Streaming_TV Streaming_Filmes  \\\n",
              "0           DSL  ...             Yes          Yes               No   \n",
              "1           DSL  ...              No           No              Yes   \n",
              "2   Fiber optic  ...              No           No               No   \n",
              "3   Fiber optic  ...              No          Yes              Yes   \n",
              "4   Fiber optic  ...             Yes          Yes               No   \n",
              "\n",
              "    Tipo_Contrato Fatura_Digital   Forma_Pagamento Valor_Mensal Valor_Total  \\\n",
              "0        One year            Yes      Mailed check         65.6      593.30   \n",
              "1  Month-to-month             No      Mailed check         59.9      542.40   \n",
              "2  Month-to-month            Yes  Electronic check         73.9      280.85   \n",
              "3  Month-to-month            Yes  Electronic check         98.0     1237.85   \n",
              "4  Month-to-month            Yes      Mailed check         83.9      267.40   \n",
              "\n",
              "  tempo_estimado_meses  Conta_Diarias  \n",
              "0             9.044207       2.186667  \n",
              "1             9.055092       1.996667  \n",
              "2             3.800406       2.463333  \n",
              "3            12.631122       3.266667  \n",
              "4             3.187128       2.796667  \n",
              "\n",
              "[5 rows x 23 columns]"
            ]
          },
          "execution_count": 93,
          "metadata": {},
          "output_type": "execute_result"
        }
      ],
      "source": [
        "# Leitura dos dados tratados a partir do GitHub\n",
        "url = 'https://raw.githubusercontent.com/Brunex-Alado/Analise-Dados-3/refs/heads/main/dados_tratados.csv'\n",
        "df = pd.read_csv(url)\n",
        "\n",
        "# Visualizar as 5 primeiras linhas\n",
        "df.head()"
      ]
    },
    {
      "cell_type": "markdown",
      "metadata": {
        "id": "1lSZP8zmmGZu"
      },
      "source": [
        "## 🔧 <b><font color=\"MediumPurple\" size=\"6\">PREPARAÇÃO DOS DADOS</font></b>\n",
        "\n",
        "\n",
        "---\n",
        "\n"
      ]
    },
    {
      "cell_type": "markdown",
      "metadata": {
        "id": "p7-YF9qOfGLj"
      },
      "source": [
        "## 🎯<b><font color=\"MediumPurple\">Remoção de Colunas Irrelevantes</font></b>\n",
        "\n",
        "Eliminando colunas que não trazem valor para a análise ou para os modelos preditivos, como identificadores únicos (por exemplo, o ID do cliente). Essas colunas não ajudam na previsão da evasão e podem até prejudicar o desempenho dos modelos."
      ]
    },
    {
      "cell_type": "code",
      "execution_count": 94,
      "metadata": {
        "colab": {
          "base_uri": "https://localhost:8080/"
        },
        "id": "oZYH-WUbaNKo",
        "outputId": "f7f46587-800b-4d84-8077-ebc9a1172b27"
      },
      "outputs": [
        {
          "name": "stdout",
          "output_type": "stream",
          "text": [
            "🔁 PARES DE COLUNAS COM ALTA CORRELAÇÃO:\n",
            "-----------------------------------------\n",
            "Meses_de_Contrato  🔛  tempo_estimado_meses\n",
            "Valor_Mensal  🔛  Conta_Diarias\n",
            "tempo_estimado_meses  🔛  Meses_de_Contrato\n",
            "Conta_Diarias  🔛  Valor_Mensal\n",
            "\n",
            "❌ COLUNAS SUGERIDAS PARA REMOÇÃO (por redundância):\n",
            "-----------------------------------------------\n",
            "- Valor_Mensal\n",
            "- tempo_estimado_meses\n",
            "- Meses_de_Contrato\n",
            "- Conta_Diarias\n"
          ]
        }
      ],
      "source": [
        "# DataFrame\n",
        "dados = df\n",
        "\n",
        "# Selecionar apenas colunas numéricas e booleanas\n",
        "dados_numericos = dados.select_dtypes(include=[\"number\", \"bool\"])\n",
        "\n",
        "# Calcular a matriz de correlação absoluta\n",
        "correlacao = dados_numericos.corr().abs()\n",
        "\n",
        "# Identificar pares altamente correlacionados (correlação > 0.95)\n",
        "pares_correlacionados = [\n",
        "    (col1, col2)\n",
        "    for col1 in correlacao.columns\n",
        "    for col2 in correlacao.columns\n",
        "    if col1 != col2 and correlacao.loc[col1, col2] > 0.95\n",
        "]\n",
        "\n",
        "# Mostrar os pares encontrados\n",
        "print(\"🔁 PARES DE COLUNAS COM ALTA CORRELAÇÃO:\")\n",
        "print('-'*41)\n",
        "for col1, col2 in pares_correlacionados:\n",
        "    print(f\"{col1}  🔛  {col2}\")\n",
        "\n",
        "# Sugerir colunas para remoção\n",
        "colunas_para_remover = set()\n",
        "for col1, col2 in pares_correlacionados:\n",
        "    colunas_para_remover.add(col2)\n",
        "\n",
        "# Exibir colunas sugeridas\n",
        "print(\"\\n❌ COLUNAS SUGERIDAS PARA REMOÇÃO (por redundância):\")\n",
        "print('-'*47)\n",
        "for col in colunas_para_remover:\n",
        "    print(f\"- {col}\")\n"
      ]
    },
    {
      "cell_type": "code",
      "execution_count": 95,
      "metadata": {
        "colab": {
          "base_uri": "https://localhost:8080/",
          "height": 295
        },
        "id": "VHNXATcs2His",
        "outputId": "2f203e43-78aa-4295-cf4e-1a0acd4f4154"
      },
      "outputs": [
        {
          "data": {
            "text/html": [
              "<div>\n",
              "<style scoped>\n",
              "    .dataframe tbody tr th:only-of-type {\n",
              "        vertical-align: middle;\n",
              "    }\n",
              "\n",
              "    .dataframe tbody tr th {\n",
              "        vertical-align: top;\n",
              "    }\n",
              "\n",
              "    .dataframe thead th {\n",
              "        text-align: right;\n",
              "    }\n",
              "</style>\n",
              "<table border=\"1\" class=\"dataframe\">\n",
              "  <thead>\n",
              "    <tr style=\"text-align: right;\">\n",
              "      <th></th>\n",
              "      <th>Cancelamento</th>\n",
              "      <th>Gênero</th>\n",
              "      <th>Idoso</th>\n",
              "      <th>Possui_Companheiro</th>\n",
              "      <th>Possui_Dependentes</th>\n",
              "      <th>Meses_de_Contrato</th>\n",
              "      <th>Telefone_Ativo</th>\n",
              "      <th>Multiplas_Linhas</th>\n",
              "      <th>Tipo_Internet</th>\n",
              "      <th>Seguranca_Online</th>\n",
              "      <th>Backup_Online</th>\n",
              "      <th>Protecao_Dispositivo</th>\n",
              "      <th>Suporte_Tecnico</th>\n",
              "      <th>Streaming_TV</th>\n",
              "      <th>Streaming_Filmes</th>\n",
              "      <th>Tipo_Contrato</th>\n",
              "      <th>Fatura_Digital</th>\n",
              "      <th>Forma_Pagamento</th>\n",
              "      <th>Valor_Mensal</th>\n",
              "    </tr>\n",
              "  </thead>\n",
              "  <tbody>\n",
              "    <tr>\n",
              "      <th>0</th>\n",
              "      <td>No</td>\n",
              "      <td>Female</td>\n",
              "      <td>0</td>\n",
              "      <td>Yes</td>\n",
              "      <td>Yes</td>\n",
              "      <td>9</td>\n",
              "      <td>Yes</td>\n",
              "      <td>No</td>\n",
              "      <td>DSL</td>\n",
              "      <td>No</td>\n",
              "      <td>Yes</td>\n",
              "      <td>No</td>\n",
              "      <td>Yes</td>\n",
              "      <td>Yes</td>\n",
              "      <td>No</td>\n",
              "      <td>One year</td>\n",
              "      <td>Yes</td>\n",
              "      <td>Mailed check</td>\n",
              "      <td>65.6</td>\n",
              "    </tr>\n",
              "    <tr>\n",
              "      <th>1</th>\n",
              "      <td>No</td>\n",
              "      <td>Male</td>\n",
              "      <td>0</td>\n",
              "      <td>No</td>\n",
              "      <td>No</td>\n",
              "      <td>9</td>\n",
              "      <td>Yes</td>\n",
              "      <td>Yes</td>\n",
              "      <td>DSL</td>\n",
              "      <td>No</td>\n",
              "      <td>No</td>\n",
              "      <td>No</td>\n",
              "      <td>No</td>\n",
              "      <td>No</td>\n",
              "      <td>Yes</td>\n",
              "      <td>Month-to-month</td>\n",
              "      <td>No</td>\n",
              "      <td>Mailed check</td>\n",
              "      <td>59.9</td>\n",
              "    </tr>\n",
              "    <tr>\n",
              "      <th>2</th>\n",
              "      <td>Yes</td>\n",
              "      <td>Male</td>\n",
              "      <td>0</td>\n",
              "      <td>No</td>\n",
              "      <td>No</td>\n",
              "      <td>4</td>\n",
              "      <td>Yes</td>\n",
              "      <td>No</td>\n",
              "      <td>Fiber optic</td>\n",
              "      <td>No</td>\n",
              "      <td>No</td>\n",
              "      <td>Yes</td>\n",
              "      <td>No</td>\n",
              "      <td>No</td>\n",
              "      <td>No</td>\n",
              "      <td>Month-to-month</td>\n",
              "      <td>Yes</td>\n",
              "      <td>Electronic check</td>\n",
              "      <td>73.9</td>\n",
              "    </tr>\n",
              "    <tr>\n",
              "      <th>3</th>\n",
              "      <td>Yes</td>\n",
              "      <td>Male</td>\n",
              "      <td>1</td>\n",
              "      <td>Yes</td>\n",
              "      <td>No</td>\n",
              "      <td>13</td>\n",
              "      <td>Yes</td>\n",
              "      <td>No</td>\n",
              "      <td>Fiber optic</td>\n",
              "      <td>No</td>\n",
              "      <td>Yes</td>\n",
              "      <td>Yes</td>\n",
              "      <td>No</td>\n",
              "      <td>Yes</td>\n",
              "      <td>Yes</td>\n",
              "      <td>Month-to-month</td>\n",
              "      <td>Yes</td>\n",
              "      <td>Electronic check</td>\n",
              "      <td>98.0</td>\n",
              "    </tr>\n",
              "    <tr>\n",
              "      <th>4</th>\n",
              "      <td>Yes</td>\n",
              "      <td>Female</td>\n",
              "      <td>1</td>\n",
              "      <td>Yes</td>\n",
              "      <td>No</td>\n",
              "      <td>3</td>\n",
              "      <td>Yes</td>\n",
              "      <td>No</td>\n",
              "      <td>Fiber optic</td>\n",
              "      <td>No</td>\n",
              "      <td>No</td>\n",
              "      <td>No</td>\n",
              "      <td>Yes</td>\n",
              "      <td>Yes</td>\n",
              "      <td>No</td>\n",
              "      <td>Month-to-month</td>\n",
              "      <td>Yes</td>\n",
              "      <td>Mailed check</td>\n",
              "      <td>83.9</td>\n",
              "    </tr>\n",
              "  </tbody>\n",
              "</table>\n",
              "</div>"
            ],
            "text/plain": [
              "  Cancelamento  Gênero  Idoso Possui_Companheiro Possui_Dependentes  \\\n",
              "0           No  Female      0                Yes                Yes   \n",
              "1           No    Male      0                 No                 No   \n",
              "2          Yes    Male      0                 No                 No   \n",
              "3          Yes    Male      1                Yes                 No   \n",
              "4          Yes  Female      1                Yes                 No   \n",
              "\n",
              "   Meses_de_Contrato Telefone_Ativo Multiplas_Linhas Tipo_Internet  \\\n",
              "0                  9            Yes               No           DSL   \n",
              "1                  9            Yes              Yes           DSL   \n",
              "2                  4            Yes               No   Fiber optic   \n",
              "3                 13            Yes               No   Fiber optic   \n",
              "4                  3            Yes               No   Fiber optic   \n",
              "\n",
              "  Seguranca_Online Backup_Online Protecao_Dispositivo Suporte_Tecnico  \\\n",
              "0               No           Yes                   No             Yes   \n",
              "1               No            No                   No              No   \n",
              "2               No            No                  Yes              No   \n",
              "3               No           Yes                  Yes              No   \n",
              "4               No            No                   No             Yes   \n",
              "\n",
              "  Streaming_TV Streaming_Filmes   Tipo_Contrato Fatura_Digital  \\\n",
              "0          Yes               No        One year            Yes   \n",
              "1           No              Yes  Month-to-month             No   \n",
              "2           No               No  Month-to-month            Yes   \n",
              "3          Yes              Yes  Month-to-month            Yes   \n",
              "4          Yes               No  Month-to-month            Yes   \n",
              "\n",
              "    Forma_Pagamento  Valor_Mensal  \n",
              "0      Mailed check          65.6  \n",
              "1      Mailed check          59.9  \n",
              "2  Electronic check          73.9  \n",
              "3  Electronic check          98.0  \n",
              "4      Mailed check          83.9  "
            ]
          },
          "execution_count": 95,
          "metadata": {},
          "output_type": "execute_result"
        }
      ],
      "source": [
        "# Remover as colunas com alta correlação\n",
        "dados = dados.drop(['ID_Cliente', 'tempo_estimado_meses', 'Conta_Diarias', 'Valor_Total'], axis=1)\n",
        "\n",
        "# Remover registros onde o valor é 'Não informado'\n",
        "dados = dados[dados['Cancelamento'] != 'Não informado']\n",
        "\n",
        "\n",
        "dados.head()"
      ]
    },
    {
      "cell_type": "markdown",
      "metadata": {
        "id": "5CVLV6l_dmwP"
      },
      "source": [
        "## 🎯 <b><font color=\"MediumPurple\">Encoding</font></b>\n",
        "\n",
        "Inicialmente foi identificado os valores únicos de cada coluna e posteriormente transformado as variáveis categóricas em formato numérico para torná-las compatíveis com algoritmos de machine learning. Agora utilizaremos um método de codificação adequado, como o **one-hot encoding**."
      ]
    },
    {
      "cell_type": "code",
      "execution_count": 96,
      "metadata": {
        "colab": {
          "base_uri": "https://localhost:8080/",
          "height": 1000
        },
        "id": "gbqmhgvvM6gX",
        "outputId": "a8e52e91-a8e1-4f2d-f3e1-4a835d7dbff9"
      },
      "outputs": [
        {
          "data": {
            "text/html": [
              "<strong style='font-size: 15px;'>➡️  CANCELAMENTO</strong>"
            ],
            "text/plain": [
              "<IPython.core.display.HTML object>"
            ]
          },
          "metadata": {},
          "output_type": "display_data"
        },
        {
          "data": {
            "text/html": [
              "<div>\n",
              "<style scoped>\n",
              "    .dataframe tbody tr th:only-of-type {\n",
              "        vertical-align: middle;\n",
              "    }\n",
              "\n",
              "    .dataframe tbody tr th {\n",
              "        vertical-align: top;\n",
              "    }\n",
              "\n",
              "    .dataframe thead th {\n",
              "        text-align: right;\n",
              "    }\n",
              "</style>\n",
              "<table border=\"1\" class=\"dataframe\">\n",
              "  <thead>\n",
              "    <tr style=\"text-align: right;\">\n",
              "      <th></th>\n",
              "      <th>Frequência</th>\n",
              "    </tr>\n",
              "    <tr>\n",
              "      <th>Cancelamento</th>\n",
              "      <th></th>\n",
              "    </tr>\n",
              "  </thead>\n",
              "  <tbody>\n",
              "    <tr>\n",
              "      <th>No</th>\n",
              "      <td>5163</td>\n",
              "    </tr>\n",
              "    <tr>\n",
              "      <th>Yes</th>\n",
              "      <td>1869</td>\n",
              "    </tr>\n",
              "  </tbody>\n",
              "</table>\n",
              "</div>"
            ],
            "text/plain": [
              "              Frequência\n",
              "Cancelamento            \n",
              "No                  5163\n",
              "Yes                 1869"
            ]
          },
          "metadata": {},
          "output_type": "display_data"
        },
        {
          "name": "stdout",
          "output_type": "stream",
          "text": [
            "-----------------------------------\n"
          ]
        },
        {
          "data": {
            "text/html": [
              "<strong style='font-size: 15px;'>➡️  GÊNERO</strong>"
            ],
            "text/plain": [
              "<IPython.core.display.HTML object>"
            ]
          },
          "metadata": {},
          "output_type": "display_data"
        },
        {
          "data": {
            "text/html": [
              "<div>\n",
              "<style scoped>\n",
              "    .dataframe tbody tr th:only-of-type {\n",
              "        vertical-align: middle;\n",
              "    }\n",
              "\n",
              "    .dataframe tbody tr th {\n",
              "        vertical-align: top;\n",
              "    }\n",
              "\n",
              "    .dataframe thead th {\n",
              "        text-align: right;\n",
              "    }\n",
              "</style>\n",
              "<table border=\"1\" class=\"dataframe\">\n",
              "  <thead>\n",
              "    <tr style=\"text-align: right;\">\n",
              "      <th></th>\n",
              "      <th>Frequência</th>\n",
              "    </tr>\n",
              "    <tr>\n",
              "      <th>Gênero</th>\n",
              "      <th></th>\n",
              "    </tr>\n",
              "  </thead>\n",
              "  <tbody>\n",
              "    <tr>\n",
              "      <th>Male</th>\n",
              "      <td>3549</td>\n",
              "    </tr>\n",
              "    <tr>\n",
              "      <th>Female</th>\n",
              "      <td>3483</td>\n",
              "    </tr>\n",
              "  </tbody>\n",
              "</table>\n",
              "</div>"
            ],
            "text/plain": [
              "        Frequência\n",
              "Gênero            \n",
              "Male          3549\n",
              "Female        3483"
            ]
          },
          "metadata": {},
          "output_type": "display_data"
        },
        {
          "name": "stdout",
          "output_type": "stream",
          "text": [
            "-----------------------------------\n"
          ]
        },
        {
          "data": {
            "text/html": [
              "<strong style='font-size: 15px;'>➡️  POSSUI_COMPANHEIRO</strong>"
            ],
            "text/plain": [
              "<IPython.core.display.HTML object>"
            ]
          },
          "metadata": {},
          "output_type": "display_data"
        },
        {
          "data": {
            "text/html": [
              "<div>\n",
              "<style scoped>\n",
              "    .dataframe tbody tr th:only-of-type {\n",
              "        vertical-align: middle;\n",
              "    }\n",
              "\n",
              "    .dataframe tbody tr th {\n",
              "        vertical-align: top;\n",
              "    }\n",
              "\n",
              "    .dataframe thead th {\n",
              "        text-align: right;\n",
              "    }\n",
              "</style>\n",
              "<table border=\"1\" class=\"dataframe\">\n",
              "  <thead>\n",
              "    <tr style=\"text-align: right;\">\n",
              "      <th></th>\n",
              "      <th>Frequência</th>\n",
              "    </tr>\n",
              "    <tr>\n",
              "      <th>Possui_Companheiro</th>\n",
              "      <th></th>\n",
              "    </tr>\n",
              "  </thead>\n",
              "  <tbody>\n",
              "    <tr>\n",
              "      <th>No</th>\n",
              "      <td>3639</td>\n",
              "    </tr>\n",
              "    <tr>\n",
              "      <th>Yes</th>\n",
              "      <td>3393</td>\n",
              "    </tr>\n",
              "  </tbody>\n",
              "</table>\n",
              "</div>"
            ],
            "text/plain": [
              "                    Frequência\n",
              "Possui_Companheiro            \n",
              "No                        3639\n",
              "Yes                       3393"
            ]
          },
          "metadata": {},
          "output_type": "display_data"
        },
        {
          "name": "stdout",
          "output_type": "stream",
          "text": [
            "-----------------------------------\n"
          ]
        },
        {
          "data": {
            "text/html": [
              "<strong style='font-size: 15px;'>➡️  POSSUI_DEPENDENTES</strong>"
            ],
            "text/plain": [
              "<IPython.core.display.HTML object>"
            ]
          },
          "metadata": {},
          "output_type": "display_data"
        },
        {
          "data": {
            "text/html": [
              "<div>\n",
              "<style scoped>\n",
              "    .dataframe tbody tr th:only-of-type {\n",
              "        vertical-align: middle;\n",
              "    }\n",
              "\n",
              "    .dataframe tbody tr th {\n",
              "        vertical-align: top;\n",
              "    }\n",
              "\n",
              "    .dataframe thead th {\n",
              "        text-align: right;\n",
              "    }\n",
              "</style>\n",
              "<table border=\"1\" class=\"dataframe\">\n",
              "  <thead>\n",
              "    <tr style=\"text-align: right;\">\n",
              "      <th></th>\n",
              "      <th>Frequência</th>\n",
              "    </tr>\n",
              "    <tr>\n",
              "      <th>Possui_Dependentes</th>\n",
              "      <th></th>\n",
              "    </tr>\n",
              "  </thead>\n",
              "  <tbody>\n",
              "    <tr>\n",
              "      <th>No</th>\n",
              "      <td>4933</td>\n",
              "    </tr>\n",
              "    <tr>\n",
              "      <th>Yes</th>\n",
              "      <td>2099</td>\n",
              "    </tr>\n",
              "  </tbody>\n",
              "</table>\n",
              "</div>"
            ],
            "text/plain": [
              "                    Frequência\n",
              "Possui_Dependentes            \n",
              "No                        4933\n",
              "Yes                       2099"
            ]
          },
          "metadata": {},
          "output_type": "display_data"
        },
        {
          "name": "stdout",
          "output_type": "stream",
          "text": [
            "-----------------------------------\n"
          ]
        },
        {
          "data": {
            "text/html": [
              "<strong style='font-size: 15px;'>➡️  TELEFONE_ATIVO</strong>"
            ],
            "text/plain": [
              "<IPython.core.display.HTML object>"
            ]
          },
          "metadata": {},
          "output_type": "display_data"
        },
        {
          "data": {
            "text/html": [
              "<div>\n",
              "<style scoped>\n",
              "    .dataframe tbody tr th:only-of-type {\n",
              "        vertical-align: middle;\n",
              "    }\n",
              "\n",
              "    .dataframe tbody tr th {\n",
              "        vertical-align: top;\n",
              "    }\n",
              "\n",
              "    .dataframe thead th {\n",
              "        text-align: right;\n",
              "    }\n",
              "</style>\n",
              "<table border=\"1\" class=\"dataframe\">\n",
              "  <thead>\n",
              "    <tr style=\"text-align: right;\">\n",
              "      <th></th>\n",
              "      <th>Frequência</th>\n",
              "    </tr>\n",
              "    <tr>\n",
              "      <th>Telefone_Ativo</th>\n",
              "      <th></th>\n",
              "    </tr>\n",
              "  </thead>\n",
              "  <tbody>\n",
              "    <tr>\n",
              "      <th>Yes</th>\n",
              "      <td>6352</td>\n",
              "    </tr>\n",
              "    <tr>\n",
              "      <th>No</th>\n",
              "      <td>680</td>\n",
              "    </tr>\n",
              "  </tbody>\n",
              "</table>\n",
              "</div>"
            ],
            "text/plain": [
              "                Frequência\n",
              "Telefone_Ativo            \n",
              "Yes                   6352\n",
              "No                     680"
            ]
          },
          "metadata": {},
          "output_type": "display_data"
        },
        {
          "name": "stdout",
          "output_type": "stream",
          "text": [
            "-----------------------------------\n"
          ]
        },
        {
          "data": {
            "text/html": [
              "<strong style='font-size: 15px;'>➡️  MULTIPLAS_LINHAS</strong>"
            ],
            "text/plain": [
              "<IPython.core.display.HTML object>"
            ]
          },
          "metadata": {},
          "output_type": "display_data"
        },
        {
          "data": {
            "text/html": [
              "<div>\n",
              "<style scoped>\n",
              "    .dataframe tbody tr th:only-of-type {\n",
              "        vertical-align: middle;\n",
              "    }\n",
              "\n",
              "    .dataframe tbody tr th {\n",
              "        vertical-align: top;\n",
              "    }\n",
              "\n",
              "    .dataframe thead th {\n",
              "        text-align: right;\n",
              "    }\n",
              "</style>\n",
              "<table border=\"1\" class=\"dataframe\">\n",
              "  <thead>\n",
              "    <tr style=\"text-align: right;\">\n",
              "      <th></th>\n",
              "      <th>Frequência</th>\n",
              "    </tr>\n",
              "    <tr>\n",
              "      <th>Multiplas_Linhas</th>\n",
              "      <th></th>\n",
              "    </tr>\n",
              "  </thead>\n",
              "  <tbody>\n",
              "    <tr>\n",
              "      <th>No</th>\n",
              "      <td>3385</td>\n",
              "    </tr>\n",
              "    <tr>\n",
              "      <th>Yes</th>\n",
              "      <td>2967</td>\n",
              "    </tr>\n",
              "    <tr>\n",
              "      <th>No phone service</th>\n",
              "      <td>680</td>\n",
              "    </tr>\n",
              "  </tbody>\n",
              "</table>\n",
              "</div>"
            ],
            "text/plain": [
              "                  Frequência\n",
              "Multiplas_Linhas            \n",
              "No                      3385\n",
              "Yes                     2967\n",
              "No phone service         680"
            ]
          },
          "metadata": {},
          "output_type": "display_data"
        },
        {
          "name": "stdout",
          "output_type": "stream",
          "text": [
            "-----------------------------------\n"
          ]
        },
        {
          "data": {
            "text/html": [
              "<strong style='font-size: 15px;'>➡️  TIPO_INTERNET</strong>"
            ],
            "text/plain": [
              "<IPython.core.display.HTML object>"
            ]
          },
          "metadata": {},
          "output_type": "display_data"
        },
        {
          "data": {
            "text/html": [
              "<div>\n",
              "<style scoped>\n",
              "    .dataframe tbody tr th:only-of-type {\n",
              "        vertical-align: middle;\n",
              "    }\n",
              "\n",
              "    .dataframe tbody tr th {\n",
              "        vertical-align: top;\n",
              "    }\n",
              "\n",
              "    .dataframe thead th {\n",
              "        text-align: right;\n",
              "    }\n",
              "</style>\n",
              "<table border=\"1\" class=\"dataframe\">\n",
              "  <thead>\n",
              "    <tr style=\"text-align: right;\">\n",
              "      <th></th>\n",
              "      <th>Frequência</th>\n",
              "    </tr>\n",
              "    <tr>\n",
              "      <th>Tipo_Internet</th>\n",
              "      <th></th>\n",
              "    </tr>\n",
              "  </thead>\n",
              "  <tbody>\n",
              "    <tr>\n",
              "      <th>Fiber optic</th>\n",
              "      <td>3096</td>\n",
              "    </tr>\n",
              "    <tr>\n",
              "      <th>DSL</th>\n",
              "      <td>2416</td>\n",
              "    </tr>\n",
              "    <tr>\n",
              "      <th>No</th>\n",
              "      <td>1520</td>\n",
              "    </tr>\n",
              "  </tbody>\n",
              "</table>\n",
              "</div>"
            ],
            "text/plain": [
              "               Frequência\n",
              "Tipo_Internet            \n",
              "Fiber optic          3096\n",
              "DSL                  2416\n",
              "No                   1520"
            ]
          },
          "metadata": {},
          "output_type": "display_data"
        },
        {
          "name": "stdout",
          "output_type": "stream",
          "text": [
            "-----------------------------------\n"
          ]
        },
        {
          "data": {
            "text/html": [
              "<strong style='font-size: 15px;'>➡️  SEGURANCA_ONLINE</strong>"
            ],
            "text/plain": [
              "<IPython.core.display.HTML object>"
            ]
          },
          "metadata": {},
          "output_type": "display_data"
        },
        {
          "data": {
            "text/html": [
              "<div>\n",
              "<style scoped>\n",
              "    .dataframe tbody tr th:only-of-type {\n",
              "        vertical-align: middle;\n",
              "    }\n",
              "\n",
              "    .dataframe tbody tr th {\n",
              "        vertical-align: top;\n",
              "    }\n",
              "\n",
              "    .dataframe thead th {\n",
              "        text-align: right;\n",
              "    }\n",
              "</style>\n",
              "<table border=\"1\" class=\"dataframe\">\n",
              "  <thead>\n",
              "    <tr style=\"text-align: right;\">\n",
              "      <th></th>\n",
              "      <th>Frequência</th>\n",
              "    </tr>\n",
              "    <tr>\n",
              "      <th>Seguranca_Online</th>\n",
              "      <th></th>\n",
              "    </tr>\n",
              "  </thead>\n",
              "  <tbody>\n",
              "    <tr>\n",
              "      <th>No</th>\n",
              "      <td>3497</td>\n",
              "    </tr>\n",
              "    <tr>\n",
              "      <th>Yes</th>\n",
              "      <td>2015</td>\n",
              "    </tr>\n",
              "    <tr>\n",
              "      <th>No internet service</th>\n",
              "      <td>1520</td>\n",
              "    </tr>\n",
              "  </tbody>\n",
              "</table>\n",
              "</div>"
            ],
            "text/plain": [
              "                     Frequência\n",
              "Seguranca_Online               \n",
              "No                         3497\n",
              "Yes                        2015\n",
              "No internet service        1520"
            ]
          },
          "metadata": {},
          "output_type": "display_data"
        },
        {
          "name": "stdout",
          "output_type": "stream",
          "text": [
            "-----------------------------------\n"
          ]
        },
        {
          "data": {
            "text/html": [
              "<strong style='font-size: 15px;'>➡️  BACKUP_ONLINE</strong>"
            ],
            "text/plain": [
              "<IPython.core.display.HTML object>"
            ]
          },
          "metadata": {},
          "output_type": "display_data"
        },
        {
          "data": {
            "text/html": [
              "<div>\n",
              "<style scoped>\n",
              "    .dataframe tbody tr th:only-of-type {\n",
              "        vertical-align: middle;\n",
              "    }\n",
              "\n",
              "    .dataframe tbody tr th {\n",
              "        vertical-align: top;\n",
              "    }\n",
              "\n",
              "    .dataframe thead th {\n",
              "        text-align: right;\n",
              "    }\n",
              "</style>\n",
              "<table border=\"1\" class=\"dataframe\">\n",
              "  <thead>\n",
              "    <tr style=\"text-align: right;\">\n",
              "      <th></th>\n",
              "      <th>Frequência</th>\n",
              "    </tr>\n",
              "    <tr>\n",
              "      <th>Backup_Online</th>\n",
              "      <th></th>\n",
              "    </tr>\n",
              "  </thead>\n",
              "  <tbody>\n",
              "    <tr>\n",
              "      <th>No</th>\n",
              "      <td>3087</td>\n",
              "    </tr>\n",
              "    <tr>\n",
              "      <th>Yes</th>\n",
              "      <td>2425</td>\n",
              "    </tr>\n",
              "    <tr>\n",
              "      <th>No internet service</th>\n",
              "      <td>1520</td>\n",
              "    </tr>\n",
              "  </tbody>\n",
              "</table>\n",
              "</div>"
            ],
            "text/plain": [
              "                     Frequência\n",
              "Backup_Online                  \n",
              "No                         3087\n",
              "Yes                        2425\n",
              "No internet service        1520"
            ]
          },
          "metadata": {},
          "output_type": "display_data"
        },
        {
          "name": "stdout",
          "output_type": "stream",
          "text": [
            "-----------------------------------\n"
          ]
        },
        {
          "data": {
            "text/html": [
              "<strong style='font-size: 15px;'>➡️  PROTECAO_DISPOSITIVO</strong>"
            ],
            "text/plain": [
              "<IPython.core.display.HTML object>"
            ]
          },
          "metadata": {},
          "output_type": "display_data"
        },
        {
          "data": {
            "text/html": [
              "<div>\n",
              "<style scoped>\n",
              "    .dataframe tbody tr th:only-of-type {\n",
              "        vertical-align: middle;\n",
              "    }\n",
              "\n",
              "    .dataframe tbody tr th {\n",
              "        vertical-align: top;\n",
              "    }\n",
              "\n",
              "    .dataframe thead th {\n",
              "        text-align: right;\n",
              "    }\n",
              "</style>\n",
              "<table border=\"1\" class=\"dataframe\">\n",
              "  <thead>\n",
              "    <tr style=\"text-align: right;\">\n",
              "      <th></th>\n",
              "      <th>Frequência</th>\n",
              "    </tr>\n",
              "    <tr>\n",
              "      <th>Protecao_Dispositivo</th>\n",
              "      <th></th>\n",
              "    </tr>\n",
              "  </thead>\n",
              "  <tbody>\n",
              "    <tr>\n",
              "      <th>No</th>\n",
              "      <td>3094</td>\n",
              "    </tr>\n",
              "    <tr>\n",
              "      <th>Yes</th>\n",
              "      <td>2418</td>\n",
              "    </tr>\n",
              "    <tr>\n",
              "      <th>No internet service</th>\n",
              "      <td>1520</td>\n",
              "    </tr>\n",
              "  </tbody>\n",
              "</table>\n",
              "</div>"
            ],
            "text/plain": [
              "                      Frequência\n",
              "Protecao_Dispositivo            \n",
              "No                          3094\n",
              "Yes                         2418\n",
              "No internet service         1520"
            ]
          },
          "metadata": {},
          "output_type": "display_data"
        },
        {
          "name": "stdout",
          "output_type": "stream",
          "text": [
            "-----------------------------------\n"
          ]
        },
        {
          "data": {
            "text/html": [
              "<strong style='font-size: 15px;'>➡️  SUPORTE_TECNICO</strong>"
            ],
            "text/plain": [
              "<IPython.core.display.HTML object>"
            ]
          },
          "metadata": {},
          "output_type": "display_data"
        },
        {
          "data": {
            "text/html": [
              "<div>\n",
              "<style scoped>\n",
              "    .dataframe tbody tr th:only-of-type {\n",
              "        vertical-align: middle;\n",
              "    }\n",
              "\n",
              "    .dataframe tbody tr th {\n",
              "        vertical-align: top;\n",
              "    }\n",
              "\n",
              "    .dataframe thead th {\n",
              "        text-align: right;\n",
              "    }\n",
              "</style>\n",
              "<table border=\"1\" class=\"dataframe\">\n",
              "  <thead>\n",
              "    <tr style=\"text-align: right;\">\n",
              "      <th></th>\n",
              "      <th>Frequência</th>\n",
              "    </tr>\n",
              "    <tr>\n",
              "      <th>Suporte_Tecnico</th>\n",
              "      <th></th>\n",
              "    </tr>\n",
              "  </thead>\n",
              "  <tbody>\n",
              "    <tr>\n",
              "      <th>No</th>\n",
              "      <td>3472</td>\n",
              "    </tr>\n",
              "    <tr>\n",
              "      <th>Yes</th>\n",
              "      <td>2040</td>\n",
              "    </tr>\n",
              "    <tr>\n",
              "      <th>No internet service</th>\n",
              "      <td>1520</td>\n",
              "    </tr>\n",
              "  </tbody>\n",
              "</table>\n",
              "</div>"
            ],
            "text/plain": [
              "                     Frequência\n",
              "Suporte_Tecnico                \n",
              "No                         3472\n",
              "Yes                        2040\n",
              "No internet service        1520"
            ]
          },
          "metadata": {},
          "output_type": "display_data"
        },
        {
          "name": "stdout",
          "output_type": "stream",
          "text": [
            "-----------------------------------\n"
          ]
        },
        {
          "data": {
            "text/html": [
              "<strong style='font-size: 15px;'>➡️  STREAMING_TV</strong>"
            ],
            "text/plain": [
              "<IPython.core.display.HTML object>"
            ]
          },
          "metadata": {},
          "output_type": "display_data"
        },
        {
          "data": {
            "text/html": [
              "<div>\n",
              "<style scoped>\n",
              "    .dataframe tbody tr th:only-of-type {\n",
              "        vertical-align: middle;\n",
              "    }\n",
              "\n",
              "    .dataframe tbody tr th {\n",
              "        vertical-align: top;\n",
              "    }\n",
              "\n",
              "    .dataframe thead th {\n",
              "        text-align: right;\n",
              "    }\n",
              "</style>\n",
              "<table border=\"1\" class=\"dataframe\">\n",
              "  <thead>\n",
              "    <tr style=\"text-align: right;\">\n",
              "      <th></th>\n",
              "      <th>Frequência</th>\n",
              "    </tr>\n",
              "    <tr>\n",
              "      <th>Streaming_TV</th>\n",
              "      <th></th>\n",
              "    </tr>\n",
              "  </thead>\n",
              "  <tbody>\n",
              "    <tr>\n",
              "      <th>No</th>\n",
              "      <td>2809</td>\n",
              "    </tr>\n",
              "    <tr>\n",
              "      <th>Yes</th>\n",
              "      <td>2703</td>\n",
              "    </tr>\n",
              "    <tr>\n",
              "      <th>No internet service</th>\n",
              "      <td>1520</td>\n",
              "    </tr>\n",
              "  </tbody>\n",
              "</table>\n",
              "</div>"
            ],
            "text/plain": [
              "                     Frequência\n",
              "Streaming_TV                   \n",
              "No                         2809\n",
              "Yes                        2703\n",
              "No internet service        1520"
            ]
          },
          "metadata": {},
          "output_type": "display_data"
        },
        {
          "name": "stdout",
          "output_type": "stream",
          "text": [
            "-----------------------------------\n"
          ]
        },
        {
          "data": {
            "text/html": [
              "<strong style='font-size: 15px;'>➡️  STREAMING_FILMES</strong>"
            ],
            "text/plain": [
              "<IPython.core.display.HTML object>"
            ]
          },
          "metadata": {},
          "output_type": "display_data"
        },
        {
          "data": {
            "text/html": [
              "<div>\n",
              "<style scoped>\n",
              "    .dataframe tbody tr th:only-of-type {\n",
              "        vertical-align: middle;\n",
              "    }\n",
              "\n",
              "    .dataframe tbody tr th {\n",
              "        vertical-align: top;\n",
              "    }\n",
              "\n",
              "    .dataframe thead th {\n",
              "        text-align: right;\n",
              "    }\n",
              "</style>\n",
              "<table border=\"1\" class=\"dataframe\">\n",
              "  <thead>\n",
              "    <tr style=\"text-align: right;\">\n",
              "      <th></th>\n",
              "      <th>Frequência</th>\n",
              "    </tr>\n",
              "    <tr>\n",
              "      <th>Streaming_Filmes</th>\n",
              "      <th></th>\n",
              "    </tr>\n",
              "  </thead>\n",
              "  <tbody>\n",
              "    <tr>\n",
              "      <th>No</th>\n",
              "      <td>2781</td>\n",
              "    </tr>\n",
              "    <tr>\n",
              "      <th>Yes</th>\n",
              "      <td>2731</td>\n",
              "    </tr>\n",
              "    <tr>\n",
              "      <th>No internet service</th>\n",
              "      <td>1520</td>\n",
              "    </tr>\n",
              "  </tbody>\n",
              "</table>\n",
              "</div>"
            ],
            "text/plain": [
              "                     Frequência\n",
              "Streaming_Filmes               \n",
              "No                         2781\n",
              "Yes                        2731\n",
              "No internet service        1520"
            ]
          },
          "metadata": {},
          "output_type": "display_data"
        },
        {
          "name": "stdout",
          "output_type": "stream",
          "text": [
            "-----------------------------------\n"
          ]
        },
        {
          "data": {
            "text/html": [
              "<strong style='font-size: 15px;'>➡️  TIPO_CONTRATO</strong>"
            ],
            "text/plain": [
              "<IPython.core.display.HTML object>"
            ]
          },
          "metadata": {},
          "output_type": "display_data"
        },
        {
          "data": {
            "text/html": [
              "<div>\n",
              "<style scoped>\n",
              "    .dataframe tbody tr th:only-of-type {\n",
              "        vertical-align: middle;\n",
              "    }\n",
              "\n",
              "    .dataframe tbody tr th {\n",
              "        vertical-align: top;\n",
              "    }\n",
              "\n",
              "    .dataframe thead th {\n",
              "        text-align: right;\n",
              "    }\n",
              "</style>\n",
              "<table border=\"1\" class=\"dataframe\">\n",
              "  <thead>\n",
              "    <tr style=\"text-align: right;\">\n",
              "      <th></th>\n",
              "      <th>Frequência</th>\n",
              "    </tr>\n",
              "    <tr>\n",
              "      <th>Tipo_Contrato</th>\n",
              "      <th></th>\n",
              "    </tr>\n",
              "  </thead>\n",
              "  <tbody>\n",
              "    <tr>\n",
              "      <th>Month-to-month</th>\n",
              "      <td>3875</td>\n",
              "    </tr>\n",
              "    <tr>\n",
              "      <th>Two year</th>\n",
              "      <td>1685</td>\n",
              "    </tr>\n",
              "    <tr>\n",
              "      <th>One year</th>\n",
              "      <td>1472</td>\n",
              "    </tr>\n",
              "  </tbody>\n",
              "</table>\n",
              "</div>"
            ],
            "text/plain": [
              "                Frequência\n",
              "Tipo_Contrato             \n",
              "Month-to-month        3875\n",
              "Two year              1685\n",
              "One year              1472"
            ]
          },
          "metadata": {},
          "output_type": "display_data"
        },
        {
          "name": "stdout",
          "output_type": "stream",
          "text": [
            "-----------------------------------\n"
          ]
        },
        {
          "data": {
            "text/html": [
              "<strong style='font-size: 15px;'>➡️  FATURA_DIGITAL</strong>"
            ],
            "text/plain": [
              "<IPython.core.display.HTML object>"
            ]
          },
          "metadata": {},
          "output_type": "display_data"
        },
        {
          "data": {
            "text/html": [
              "<div>\n",
              "<style scoped>\n",
              "    .dataframe tbody tr th:only-of-type {\n",
              "        vertical-align: middle;\n",
              "    }\n",
              "\n",
              "    .dataframe tbody tr th {\n",
              "        vertical-align: top;\n",
              "    }\n",
              "\n",
              "    .dataframe thead th {\n",
              "        text-align: right;\n",
              "    }\n",
              "</style>\n",
              "<table border=\"1\" class=\"dataframe\">\n",
              "  <thead>\n",
              "    <tr style=\"text-align: right;\">\n",
              "      <th></th>\n",
              "      <th>Frequência</th>\n",
              "    </tr>\n",
              "    <tr>\n",
              "      <th>Fatura_Digital</th>\n",
              "      <th></th>\n",
              "    </tr>\n",
              "  </thead>\n",
              "  <tbody>\n",
              "    <tr>\n",
              "      <th>Yes</th>\n",
              "      <td>4168</td>\n",
              "    </tr>\n",
              "    <tr>\n",
              "      <th>No</th>\n",
              "      <td>2864</td>\n",
              "    </tr>\n",
              "  </tbody>\n",
              "</table>\n",
              "</div>"
            ],
            "text/plain": [
              "                Frequência\n",
              "Fatura_Digital            \n",
              "Yes                   4168\n",
              "No                    2864"
            ]
          },
          "metadata": {},
          "output_type": "display_data"
        },
        {
          "name": "stdout",
          "output_type": "stream",
          "text": [
            "-----------------------------------\n"
          ]
        },
        {
          "data": {
            "text/html": [
              "<strong style='font-size: 15px;'>➡️  FORMA_PAGAMENTO</strong>"
            ],
            "text/plain": [
              "<IPython.core.display.HTML object>"
            ]
          },
          "metadata": {},
          "output_type": "display_data"
        },
        {
          "data": {
            "text/html": [
              "<div>\n",
              "<style scoped>\n",
              "    .dataframe tbody tr th:only-of-type {\n",
              "        vertical-align: middle;\n",
              "    }\n",
              "\n",
              "    .dataframe tbody tr th {\n",
              "        vertical-align: top;\n",
              "    }\n",
              "\n",
              "    .dataframe thead th {\n",
              "        text-align: right;\n",
              "    }\n",
              "</style>\n",
              "<table border=\"1\" class=\"dataframe\">\n",
              "  <thead>\n",
              "    <tr style=\"text-align: right;\">\n",
              "      <th></th>\n",
              "      <th>Frequência</th>\n",
              "    </tr>\n",
              "    <tr>\n",
              "      <th>Forma_Pagamento</th>\n",
              "      <th></th>\n",
              "    </tr>\n",
              "  </thead>\n",
              "  <tbody>\n",
              "    <tr>\n",
              "      <th>Electronic check</th>\n",
              "      <td>2365</td>\n",
              "    </tr>\n",
              "    <tr>\n",
              "      <th>Mailed check</th>\n",
              "      <td>1604</td>\n",
              "    </tr>\n",
              "    <tr>\n",
              "      <th>Bank transfer (automatic)</th>\n",
              "      <td>1542</td>\n",
              "    </tr>\n",
              "  </tbody>\n",
              "</table>\n",
              "</div>"
            ],
            "text/plain": [
              "                           Frequência\n",
              "Forma_Pagamento                      \n",
              "Electronic check                 2365\n",
              "Mailed check                     1604\n",
              "Bank transfer (automatic)        1542"
            ]
          },
          "metadata": {},
          "output_type": "display_data"
        },
        {
          "name": "stdout",
          "output_type": "stream",
          "text": [
            "-----------------------------------\n"
          ]
        }
      ],
      "source": [
        "# Para saber os valores únicos por coluna e quantidade.\n",
        "for col in dados.select_dtypes(include='object').columns:\n",
        "    titulo = f\"<strong style='font-size: 15px;'>➡️  {col.upper()}</strong>\"\n",
        "    display(HTML(titulo))\n",
        "    display(dados[col].value_counts(dropna=False).head(3).to_frame(name='Frequência'))\n",
        "    print(\"-\" * 35)"
      ]
    },
    {
      "cell_type": "code",
      "execution_count": 97,
      "metadata": {
        "colab": {
          "base_uri": "https://localhost:8080/"
        },
        "id": "y8VQrd4H2tBd",
        "outputId": "39b8c8f4-1f4d-4a07-c60e-2881cdc6530c"
      },
      "outputs": [
        {
          "name": "stdout",
          "output_type": "stream",
          "text": [
            "<class 'pandas.core.frame.DataFrame'>\n",
            "Index: 7032 entries, 0 to 7255\n",
            "Data columns (total 19 columns):\n",
            " #   Column                Non-Null Count  Dtype  \n",
            "---  ------                --------------  -----  \n",
            " 0   Cancelamento          7032 non-null   int64  \n",
            " 1   Gênero                7032 non-null   int64  \n",
            " 2   Idoso                 7032 non-null   int64  \n",
            " 3   Possui_Companheiro    7032 non-null   int64  \n",
            " 4   Possui_Dependentes    7032 non-null   int64  \n",
            " 5   Meses_de_Contrato     7032 non-null   int64  \n",
            " 6   Telefone_Ativo        7032 non-null   int64  \n",
            " 7   Multiplas_Linhas      7032 non-null   object \n",
            " 8   Tipo_Internet         7032 non-null   object \n",
            " 9   Seguranca_Online      7032 non-null   object \n",
            " 10  Backup_Online         7032 non-null   object \n",
            " 11  Protecao_Dispositivo  7032 non-null   object \n",
            " 12  Suporte_Tecnico       7032 non-null   object \n",
            " 13  Streaming_TV          7032 non-null   object \n",
            " 14  Streaming_Filmes      7032 non-null   object \n",
            " 15  Tipo_Contrato         7032 non-null   object \n",
            " 16  Fatura_Digital        7032 non-null   int64  \n",
            " 17  Forma_Pagamento       7032 non-null   object \n",
            " 18  Valor_Mensal          7032 non-null   float64\n",
            "dtypes: float64(1), int64(8), object(10)\n",
            "memory usage: 1.1+ MB\n"
          ]
        }
      ],
      "source": [
        "# Passo 1: Mapear os valores para binário\n",
        "import warnings\n",
        "\n",
        "with warnings.catch_warnings():\n",
        "    warnings.simplefilter(\"ignore\", category=FutureWarning)\n",
        "    dados = dados.replace({'Yes': 1, 'No': 0})\n",
        "    dados = dados.replace({'Female': 1, 'Male': 0})\n",
        "    dados = dados.replace({'True': 1, 'False': 0})\n",
        "\n",
        "dados.info()"
      ]
    },
    {
      "cell_type": "code",
      "execution_count": 98,
      "metadata": {
        "colab": {
          "base_uri": "https://localhost:8080/"
        },
        "id": "pJPQpS_jPV3O",
        "outputId": "310d31fd-bbba-475e-d5fa-d9a9458ecd43"
      },
      "outputs": [
        {
          "name": "stdout",
          "output_type": "stream",
          "text": [
            "<class 'pandas.core.frame.DataFrame'>\n",
            "Index: 7032 entries, 0 to 7255\n",
            "Data columns (total 19 columns):\n",
            " #   Column                Non-Null Count  Dtype  \n",
            "---  ------                --------------  -----  \n",
            " 0   Cancelamento          7032 non-null   bool   \n",
            " 1   Gênero                7032 non-null   bool   \n",
            " 2   Idoso                 7032 non-null   bool   \n",
            " 3   Possui_Companheiro    7032 non-null   bool   \n",
            " 4   Possui_Dependentes    7032 non-null   bool   \n",
            " 5   Meses_de_Contrato     7032 non-null   int64  \n",
            " 6   Telefone_Ativo        7032 non-null   bool   \n",
            " 7   Multiplas_Linhas      7032 non-null   object \n",
            " 8   Tipo_Internet         7032 non-null   object \n",
            " 9   Seguranca_Online      7032 non-null   object \n",
            " 10  Backup_Online         7032 non-null   object \n",
            " 11  Protecao_Dispositivo  7032 non-null   object \n",
            " 12  Suporte_Tecnico       7032 non-null   object \n",
            " 13  Streaming_TV          7032 non-null   object \n",
            " 14  Streaming_Filmes      7032 non-null   object \n",
            " 15  Tipo_Contrato         7032 non-null   object \n",
            " 16  Fatura_Digital        7032 non-null   bool   \n",
            " 17  Forma_Pagamento       7032 non-null   object \n",
            " 18  Valor_Mensal          7032 non-null   float64\n",
            "dtypes: bool(7), float64(1), int64(1), object(10)\n",
            "memory usage: 762.3+ KB\n"
          ]
        }
      ],
      "source": [
        "# Passo 2: Identificar colunas que têm só 0 e 1\n",
        "binarias = [col for col in dados.columns if set(dados[col].dropna().unique()).issubset({0, 1})]\n",
        "\n",
        "# Passo 3: Converter essas colunas para booleano\n",
        "dados[binarias] = dados[binarias].astype(bool)\n",
        "\n",
        "dados.info()"
      ]
    },
    {
      "cell_type": "code",
      "execution_count": 99,
      "metadata": {
        "colab": {
          "base_uri": "https://localhost:8080/"
        },
        "id": "EgLXe9xFaAvM",
        "outputId": "11d8c7dc-014a-4dcb-8033-28d3f1dab169"
      },
      "outputs": [
        {
          "name": "stdout",
          "output_type": "stream",
          "text": [
            "<class 'pandas.core.frame.DataFrame'>\n",
            "Index: 7032 entries, 0 to 7255\n",
            "Data columns (total 30 columns):\n",
            " #   Column                                    Non-Null Count  Dtype  \n",
            "---  ------                                    --------------  -----  \n",
            " 0   Cancelamento                              7032 non-null   bool   \n",
            " 1   Gênero                                    7032 non-null   bool   \n",
            " 2   Idoso                                     7032 non-null   bool   \n",
            " 3   Possui_Companheiro                        7032 non-null   bool   \n",
            " 4   Possui_Dependentes                        7032 non-null   bool   \n",
            " 5   Meses_de_Contrato                         7032 non-null   int64  \n",
            " 6   Telefone_Ativo                            7032 non-null   bool   \n",
            " 7   Fatura_Digital                            7032 non-null   bool   \n",
            " 8   Valor_Mensal                              7032 non-null   float64\n",
            " 9   Multiplas_Linhas_1                        7032 non-null   bool   \n",
            " 10  Multiplas_Linhas_No phone service         7032 non-null   bool   \n",
            " 11  Tipo_Internet_DSL                         7032 non-null   bool   \n",
            " 12  Tipo_Internet_Fiber optic                 7032 non-null   bool   \n",
            " 13  Seguranca_Online_1                        7032 non-null   bool   \n",
            " 14  Seguranca_Online_No internet service      7032 non-null   bool   \n",
            " 15  Backup_Online_1                           7032 non-null   bool   \n",
            " 16  Backup_Online_No internet service         7032 non-null   bool   \n",
            " 17  Protecao_Dispositivo_1                    7032 non-null   bool   \n",
            " 18  Protecao_Dispositivo_No internet service  7032 non-null   bool   \n",
            " 19  Suporte_Tecnico_1                         7032 non-null   bool   \n",
            " 20  Suporte_Tecnico_No internet service       7032 non-null   bool   \n",
            " 21  Streaming_TV_1                            7032 non-null   bool   \n",
            " 22  Streaming_TV_No internet service          7032 non-null   bool   \n",
            " 23  Streaming_Filmes_1                        7032 non-null   bool   \n",
            " 24  Streaming_Filmes_No internet service      7032 non-null   bool   \n",
            " 25  Tipo_Contrato_One year                    7032 non-null   bool   \n",
            " 26  Tipo_Contrato_Two year                    7032 non-null   bool   \n",
            " 27  Forma_Pagamento_Credit card (automatic)   7032 non-null   bool   \n",
            " 28  Forma_Pagamento_Electronic check          7032 non-null   bool   \n",
            " 29  Forma_Pagamento_Mailed check              7032 non-null   bool   \n",
            "dtypes: bool(28), float64(1), int64(1)\n",
            "memory usage: 357.1 KB\n"
          ]
        }
      ],
      "source": [
        "# Passo 4: One-hot encoding para todas as colunas categóricas multiclasse\n",
        "dados = pd.get_dummies(dados, drop_first=True)\n",
        "\n",
        "dados.info()"
      ]
    },
    {
      "cell_type": "code",
      "execution_count": 100,
      "metadata": {
        "colab": {
          "base_uri": "https://localhost:8080/"
        },
        "id": "iv1ap8fLc-o9",
        "outputId": "7c6932d9-eee7-48cb-f273-be08a74c79b0"
      },
      "outputs": [
        {
          "name": "stdout",
          "output_type": "stream",
          "text": [
            "🔁 PARES DE COLUNAS COM ALTA CORRELAÇÃO:\n",
            "----------------------------------------\n",
            "Telefone_Ativo  🔛  Multiplas_Linhas_No phone service\n",
            "Multiplas_Linhas_No phone service  🔛  Telefone_Ativo\n",
            "Seguranca_Online_No internet service  🔛  Backup_Online_No internet service\n",
            "Seguranca_Online_No internet service  🔛  Protecao_Dispositivo_No internet service\n",
            "Seguranca_Online_No internet service  🔛  Suporte_Tecnico_No internet service\n",
            "Seguranca_Online_No internet service  🔛  Streaming_TV_No internet service\n",
            "Seguranca_Online_No internet service  🔛  Streaming_Filmes_No internet service\n",
            "Backup_Online_No internet service  🔛  Seguranca_Online_No internet service\n",
            "Backup_Online_No internet service  🔛  Protecao_Dispositivo_No internet service\n",
            "Backup_Online_No internet service  🔛  Suporte_Tecnico_No internet service\n",
            "Backup_Online_No internet service  🔛  Streaming_TV_No internet service\n",
            "Backup_Online_No internet service  🔛  Streaming_Filmes_No internet service\n",
            "Protecao_Dispositivo_No internet service  🔛  Seguranca_Online_No internet service\n",
            "Protecao_Dispositivo_No internet service  🔛  Backup_Online_No internet service\n",
            "Protecao_Dispositivo_No internet service  🔛  Suporte_Tecnico_No internet service\n",
            "Protecao_Dispositivo_No internet service  🔛  Streaming_TV_No internet service\n",
            "Protecao_Dispositivo_No internet service  🔛  Streaming_Filmes_No internet service\n",
            "Suporte_Tecnico_No internet service  🔛  Seguranca_Online_No internet service\n",
            "Suporte_Tecnico_No internet service  🔛  Backup_Online_No internet service\n",
            "Suporte_Tecnico_No internet service  🔛  Protecao_Dispositivo_No internet service\n",
            "Suporte_Tecnico_No internet service  🔛  Streaming_TV_No internet service\n",
            "Suporte_Tecnico_No internet service  🔛  Streaming_Filmes_No internet service\n",
            "Streaming_TV_No internet service  🔛  Seguranca_Online_No internet service\n",
            "Streaming_TV_No internet service  🔛  Backup_Online_No internet service\n",
            "Streaming_TV_No internet service  🔛  Protecao_Dispositivo_No internet service\n",
            "Streaming_TV_No internet service  🔛  Suporte_Tecnico_No internet service\n",
            "Streaming_TV_No internet service  🔛  Streaming_Filmes_No internet service\n",
            "Streaming_Filmes_No internet service  🔛  Seguranca_Online_No internet service\n",
            "Streaming_Filmes_No internet service  🔛  Backup_Online_No internet service\n",
            "Streaming_Filmes_No internet service  🔛  Protecao_Dispositivo_No internet service\n",
            "Streaming_Filmes_No internet service  🔛  Suporte_Tecnico_No internet service\n",
            "Streaming_Filmes_No internet service  🔛  Streaming_TV_No internet service\n"
          ]
        }
      ],
      "source": [
        "# Passo 5: Calcular novamente a correlação apenas entre colunas numéricas\n",
        "dados_numericos = dados.select_dtypes(include=['number', 'bool'])\n",
        "correlacao = dados_numericos.corr().abs()\n",
        "\n",
        "# Pegar pares com alta correlação\n",
        "pares_correlacionados = [\n",
        "    (col1, col2)\n",
        "    for col1 in correlacao.columns\n",
        "    for col2 in correlacao.columns\n",
        "    if col1 != col2 and correlacao.loc[col1, col2] > 0.95\n",
        "]\n",
        "\n",
        "print(\"🔁 PARES DE COLUNAS COM ALTA CORRELAÇÃO:\")\n",
        "print('-'*40)\n",
        "for col1, col2 in pares_correlacionados:\n",
        "    print(f\"{col1}  🔛  {col2}\")\n"
      ]
    },
    {
      "cell_type": "code",
      "execution_count": 101,
      "metadata": {
        "colab": {
          "base_uri": "https://localhost:8080/",
          "height": 273
        },
        "id": "KEggGRXodMXY",
        "outputId": "61c96905-3368-4f39-816d-5c9fbfeebe6a"
      },
      "outputs": [
        {
          "data": {
            "text/html": [
              "<div>\n",
              "<style scoped>\n",
              "    .dataframe tbody tr th:only-of-type {\n",
              "        vertical-align: middle;\n",
              "    }\n",
              "\n",
              "    .dataframe tbody tr th {\n",
              "        vertical-align: top;\n",
              "    }\n",
              "\n",
              "    .dataframe thead th {\n",
              "        text-align: right;\n",
              "    }\n",
              "</style>\n",
              "<table border=\"1\" class=\"dataframe\">\n",
              "  <thead>\n",
              "    <tr style=\"text-align: right;\">\n",
              "      <th></th>\n",
              "      <th>Cancelamento</th>\n",
              "      <th>Gênero</th>\n",
              "      <th>Idoso</th>\n",
              "      <th>Possui_Companheiro</th>\n",
              "      <th>Possui_Dependentes</th>\n",
              "      <th>Meses_de_Contrato</th>\n",
              "      <th>Telefone_Ativo</th>\n",
              "      <th>Fatura_Digital</th>\n",
              "      <th>Valor_Mensal</th>\n",
              "      <th>Multiplas_Linhas_1</th>\n",
              "      <th>...</th>\n",
              "      <th>Backup_Online_1</th>\n",
              "      <th>Protecao_Dispositivo_1</th>\n",
              "      <th>Suporte_Tecnico_1</th>\n",
              "      <th>Streaming_TV_1</th>\n",
              "      <th>Streaming_Filmes_1</th>\n",
              "      <th>Tipo_Contrato_One year</th>\n",
              "      <th>Tipo_Contrato_Two year</th>\n",
              "      <th>Forma_Pagamento_Credit card (automatic)</th>\n",
              "      <th>Forma_Pagamento_Electronic check</th>\n",
              "      <th>Forma_Pagamento_Mailed check</th>\n",
              "    </tr>\n",
              "  </thead>\n",
              "  <tbody>\n",
              "    <tr>\n",
              "      <th>0</th>\n",
              "      <td>False</td>\n",
              "      <td>True</td>\n",
              "      <td>False</td>\n",
              "      <td>True</td>\n",
              "      <td>True</td>\n",
              "      <td>9</td>\n",
              "      <td>True</td>\n",
              "      <td>True</td>\n",
              "      <td>65.6</td>\n",
              "      <td>False</td>\n",
              "      <td>...</td>\n",
              "      <td>True</td>\n",
              "      <td>False</td>\n",
              "      <td>True</td>\n",
              "      <td>True</td>\n",
              "      <td>False</td>\n",
              "      <td>True</td>\n",
              "      <td>False</td>\n",
              "      <td>False</td>\n",
              "      <td>False</td>\n",
              "      <td>True</td>\n",
              "    </tr>\n",
              "    <tr>\n",
              "      <th>1</th>\n",
              "      <td>False</td>\n",
              "      <td>False</td>\n",
              "      <td>False</td>\n",
              "      <td>False</td>\n",
              "      <td>False</td>\n",
              "      <td>9</td>\n",
              "      <td>True</td>\n",
              "      <td>False</td>\n",
              "      <td>59.9</td>\n",
              "      <td>True</td>\n",
              "      <td>...</td>\n",
              "      <td>False</td>\n",
              "      <td>False</td>\n",
              "      <td>False</td>\n",
              "      <td>False</td>\n",
              "      <td>True</td>\n",
              "      <td>False</td>\n",
              "      <td>False</td>\n",
              "      <td>False</td>\n",
              "      <td>False</td>\n",
              "      <td>True</td>\n",
              "    </tr>\n",
              "    <tr>\n",
              "      <th>2</th>\n",
              "      <td>True</td>\n",
              "      <td>False</td>\n",
              "      <td>False</td>\n",
              "      <td>False</td>\n",
              "      <td>False</td>\n",
              "      <td>4</td>\n",
              "      <td>True</td>\n",
              "      <td>True</td>\n",
              "      <td>73.9</td>\n",
              "      <td>False</td>\n",
              "      <td>...</td>\n",
              "      <td>False</td>\n",
              "      <td>True</td>\n",
              "      <td>False</td>\n",
              "      <td>False</td>\n",
              "      <td>False</td>\n",
              "      <td>False</td>\n",
              "      <td>False</td>\n",
              "      <td>False</td>\n",
              "      <td>True</td>\n",
              "      <td>False</td>\n",
              "    </tr>\n",
              "    <tr>\n",
              "      <th>3</th>\n",
              "      <td>True</td>\n",
              "      <td>False</td>\n",
              "      <td>True</td>\n",
              "      <td>True</td>\n",
              "      <td>False</td>\n",
              "      <td>13</td>\n",
              "      <td>True</td>\n",
              "      <td>True</td>\n",
              "      <td>98.0</td>\n",
              "      <td>False</td>\n",
              "      <td>...</td>\n",
              "      <td>True</td>\n",
              "      <td>True</td>\n",
              "      <td>False</td>\n",
              "      <td>True</td>\n",
              "      <td>True</td>\n",
              "      <td>False</td>\n",
              "      <td>False</td>\n",
              "      <td>False</td>\n",
              "      <td>True</td>\n",
              "      <td>False</td>\n",
              "    </tr>\n",
              "    <tr>\n",
              "      <th>4</th>\n",
              "      <td>True</td>\n",
              "      <td>True</td>\n",
              "      <td>True</td>\n",
              "      <td>True</td>\n",
              "      <td>False</td>\n",
              "      <td>3</td>\n",
              "      <td>True</td>\n",
              "      <td>True</td>\n",
              "      <td>83.9</td>\n",
              "      <td>False</td>\n",
              "      <td>...</td>\n",
              "      <td>False</td>\n",
              "      <td>False</td>\n",
              "      <td>True</td>\n",
              "      <td>True</td>\n",
              "      <td>False</td>\n",
              "      <td>False</td>\n",
              "      <td>False</td>\n",
              "      <td>False</td>\n",
              "      <td>False</td>\n",
              "      <td>True</td>\n",
              "    </tr>\n",
              "  </tbody>\n",
              "</table>\n",
              "<p>5 rows × 24 columns</p>\n",
              "</div>"
            ],
            "text/plain": [
              "   Cancelamento  Gênero  Idoso  Possui_Companheiro  Possui_Dependentes  \\\n",
              "0         False    True  False                True                True   \n",
              "1         False   False  False               False               False   \n",
              "2          True   False  False               False               False   \n",
              "3          True   False   True                True               False   \n",
              "4          True    True   True                True               False   \n",
              "\n",
              "   Meses_de_Contrato  Telefone_Ativo  Fatura_Digital  Valor_Mensal  \\\n",
              "0                  9            True            True          65.6   \n",
              "1                  9            True           False          59.9   \n",
              "2                  4            True            True          73.9   \n",
              "3                 13            True            True          98.0   \n",
              "4                  3            True            True          83.9   \n",
              "\n",
              "   Multiplas_Linhas_1  ...  Backup_Online_1  Protecao_Dispositivo_1  \\\n",
              "0               False  ...             True                   False   \n",
              "1                True  ...            False                   False   \n",
              "2               False  ...            False                    True   \n",
              "3               False  ...             True                    True   \n",
              "4               False  ...            False                   False   \n",
              "\n",
              "   Suporte_Tecnico_1  Streaming_TV_1  Streaming_Filmes_1  \\\n",
              "0               True            True               False   \n",
              "1              False           False                True   \n",
              "2              False           False               False   \n",
              "3              False            True                True   \n",
              "4               True            True               False   \n",
              "\n",
              "   Tipo_Contrato_One year  Tipo_Contrato_Two year  \\\n",
              "0                    True                   False   \n",
              "1                   False                   False   \n",
              "2                   False                   False   \n",
              "3                   False                   False   \n",
              "4                   False                   False   \n",
              "\n",
              "   Forma_Pagamento_Credit card (automatic)  Forma_Pagamento_Electronic check  \\\n",
              "0                                    False                             False   \n",
              "1                                    False                             False   \n",
              "2                                    False                              True   \n",
              "3                                    False                              True   \n",
              "4                                    False                             False   \n",
              "\n",
              "   Forma_Pagamento_Mailed check  \n",
              "0                          True  \n",
              "1                          True  \n",
              "2                         False  \n",
              "3                         False  \n",
              "4                          True  \n",
              "\n",
              "[5 rows x 24 columns]"
            ]
          },
          "execution_count": 101,
          "metadata": {},
          "output_type": "execute_result"
        }
      ],
      "source": [
        "# Passo 6: Remover colunas com alta correlação:\n",
        "dados = dados.drop([ 'Multiplas_Linhas_No phone service',\n",
        "    'Backup_Online_No internet service',\n",
        "    'Protecao_Dispositivo_No internet service',\n",
        "    'Suporte_Tecnico_No internet service',\n",
        "    'Streaming_TV_No internet service',\n",
        "    'Streaming_Filmes_No internet service'], axis=1)\n",
        "\n",
        "# Remover registros onde o valor é 'Não informado'\n",
        "dados = dados[dados['Cancelamento'] != 'Não informado']\n",
        "\n",
        "\n",
        "dados.head()"
      ]
    },
    {
      "cell_type": "markdown",
      "metadata": {
        "id": "H2IRq5FdfViJ"
      },
      "source": [
        "## 🎯 <b><font color=\"MediumPurple\">Verificação da Proporção de Evasão</font></b>\n",
        "\n",
        "Calcular a Verificação da Proporção de Evasão, onde calcularemos a proporção de clientes que evadiram (cancelaram) em relação aos que permaneceram ativos. Avaliando se há desequilíbrio entre as classes, o que pode impactar modelos preditivos e a análise de resultados."
      ]
    },
    {
      "cell_type": "code",
      "execution_count": 102,
      "metadata": {
        "colab": {
          "base_uri": "https://localhost:8080/",
          "height": 859
        },
        "id": "7Qkd89jW2bDr",
        "outputId": "aa74d4fc-da54-4f69-d5e9-989011bf203f"
      },
      "outputs": [
        {
          "data": {
            "image/png": "[encoded data removed]",
            "text/plain": [
              "<Figure size 1000x600 with 1 Axes>"
            ]
          },
          "metadata": {},
          "output_type": "display_data"
        },
        {
          "name": "stdout",
          "output_type": "stream",
          "text": [
            "\n",
            "📊 FREQUENCIA ABSOLUTA:\n",
            "-----------------------\n",
            "Cancelamento\n",
            "False    5163\n",
            "True     1869\n",
            "Name: count, dtype: int64\n",
            "-\n",
            "\n",
            "📈 PROPORÇÃO (%):\n",
            "-----------------\n",
            "Cancelamento\n",
            "False    73.421502\n",
            "True     26.578498\n",
            "Name: proportion, dtype: float64\n",
            "-\n",
            "\n"
          ]
        }
      ],
      "source": [
        "# Frequência absoluta e relativa da coluna Cancelamento\n",
        "frequencia = dados['Cancelamento'].value_counts()\n",
        "proporcao = dados['Cancelamento'].value_counts(normalize=True) * 100\n",
        "\n",
        "# Visualizar com gráfico de barras\n",
        "plt.figure(figsize=(10, 6))\n",
        "sns.barplot(x=proporcao.index, y=proporcao.values, hue=proporcao.index, palette='icefire', legend=False)\n",
        "plt.ylabel('Proporção (%)')\n",
        "plt.title('Distribuição da Evasão de Clientes')\n",
        "plt.show()\n",
        "\n",
        "# Exibir os resultados\n",
        "print(\"\\n📊 FREQUENCIA ABSOLUTA:\")\n",
        "print(\"-\" * 23)\n",
        "print(frequencia)\n",
        "print(\"-\\n\" * 1)\n",
        "print(\"📈 PROPORÇÃO (%):\")\n",
        "print(\"-\" * 17)\n",
        "print(proporcao)\n",
        "print(\"-\\n\")\n",
        "\n"
      ]
    },
    {
      "cell_type": "markdown",
      "metadata": {
        "id": "aNx6UeO55h0a"
      },
      "source": [
        "## 🎯 <b><font color=\"MediumPurple\">Balanceamento de Classes</font></b>\n",
        "\n",
        "Para aprofundar a análise, foi aplicado técnicas de balanceamento como **undersampling** , **oversampling** e **SMOTE**. Em situações de forte desbalanceamento, ferramentas como o **SMOTE** podem ser úteis para gerar exemplos sintéticos da classe minoritária."
      ]
    },
    {
      "cell_type": "code",
      "execution_count": 103,
      "metadata": {
        "id": "atkfOjqb26xM"
      },
      "outputs": [],
      "source": [
        "# Separar features(X) e target(y)\n",
        "X = dados.drop('Cancelamento', axis=1)\n",
        "y = dados['Cancelamento']\n"
      ]
    },
    {
      "cell_type": "code",
      "execution_count": 104,
      "metadata": {
        "colab": {
          "base_uri": "https://localhost:8080/"
        },
        "id": "sejMzLLdmh77",
        "outputId": "5384c348-5d0b-4d76-c8a6-7e109c66368b"
      },
      "outputs": [
        {
          "name": "stdout",
          "output_type": "stream",
          "text": [
            "DISTRIBUIÇÃO APÓS OVERSAMPLING:\n",
            "-------------------------------\n",
            "Cancelamento\n",
            "False    5163\n",
            "True     5163\n",
            "Name: count, dtype: int64\n"
          ]
        }
      ],
      "source": [
        "# Oversampling com RandomOverSampler (Duplica registros da classe minoritária)\n",
        "\n",
        "from imblearn.over_sampling import RandomOverSampler\n",
        "\n",
        "ros = RandomOverSampler(random_state=42)\n",
        "X_res, y_res = ros.fit_resample(X, y)\n",
        "\n",
        "print(\"DISTRIBUIÇÃO APÓS OVERSAMPLING:\")\n",
        "print(\"-\" * 31)\n",
        "print(pd.Series(y_res).value_counts())\n"
      ]
    },
    {
      "cell_type": "code",
      "execution_count": 105,
      "metadata": {
        "colab": {
          "base_uri": "https://localhost:8080/"
        },
        "id": "cPHoW7_6mhwe",
        "outputId": "175fb975-b313-4322-f94b-6a69d403d1a6"
      },
      "outputs": [
        {
          "name": "stdout",
          "output_type": "stream",
          "text": [
            "DISTRIBUIÇÃO APÓS UNDERSAMPLING:\n",
            "--------------------------------\n",
            "Cancelamento\n",
            "False    1869\n",
            "True     1869\n",
            "Name: count, dtype: int64\n"
          ]
        }
      ],
      "source": [
        "# Undersampling com RandomUnderSampler (Remove registros da classe majoritária)\n",
        "# Gera novas amostras sintéticas da classe minoritária, em vez de apenas copiar.\n",
        "\n",
        "from imblearn.under_sampling import RandomUnderSampler\n",
        "\n",
        "rus = RandomUnderSampler(random_state=42)\n",
        "X_res, y_res = rus.fit_resample(X, y)\n",
        "\n",
        "print(\"DISTRIBUIÇÃO APÓS UNDERSAMPLING:\")\n",
        "print(\"-\" * 32)\n",
        "print(pd.Series(y_res).value_counts())\n"
      ]
    },
    {
      "cell_type": "code",
      "execution_count": 106,
      "metadata": {
        "colab": {
          "base_uri": "https://localhost:8080/"
        },
        "id": "Kg4ss4pOj5P9",
        "outputId": "1a1fde43-b279-449f-8944-f9479fd99902"
      },
      "outputs": [
        {
          "name": "stdout",
          "output_type": "stream",
          "text": [
            "DISTRIBUIÇÃO APÓS SMOTE:\n",
            "------------------------\n",
            "Cancelamento\n",
            "False    5163\n",
            "True     5163\n",
            "Name: count, dtype: int64\n"
          ]
        }
      ],
      "source": [
        "# SMOTE (Synthetic Minority Over-sampling Technique)\n",
        "from imblearn.over_sampling import SMOTE\n",
        "\n",
        "smote = SMOTE(random_state=42)\n",
        "X_res, y_res = smote.fit_resample(X, y)\n",
        "\n",
        "print(\"DISTRIBUIÇÃO APÓS SMOTE:\")\n",
        "print(\"-\" * 24)\n",
        "print(pd.Series(y_res).value_counts())\n",
        "\n"
      ]
    },
    {
      "cell_type": "markdown",
      "metadata": {
        "id": "NQYexuCTOf1P"
      },
      "source": [
        "### 🧪 **Balanceamento de Classes**\n",
        "\n",
        "Antes da criação dos modelos, foi analisada a proporção entre as classes da variável-alvo `Cancelamento`, que indica se o cliente **evadiu** (1) ou **permaneceu** (0). Identificou-se um desequilíbrio entre as classes, o que poderia comprometer o desempenho preditivo dos algoritmos, especialmente em relação à detecção de clientes propensos à evasão.\n",
        "\n",
        "Para lidar com esse problema, foram testadas três técnicas de balanceamento:\n",
        "\n",
        "- **Oversampling com `RandomOverSampler`**: Aumenta a quantidade da classe minoritária replicando seus exemplos.\n",
        "- **Undersampling com `RandomUnderSampler`**: Reduz a quantidade da classe majoritária removendo exemplos.\n",
        "- **`SMOTE` (Synthetic Minority Over-sampling Technique)**: Gera exemplos sintéticos da classe minoritária com base nos vizinhos mais próximos.\n",
        "\n",
        "Após a comparação das distribuições, optou-se por seguir com a técnica **SMOTE**, pois ela mantém todos os dados originais e cria novos registros de forma artificial, evitando duplicações e reduzindo o risco de overfitting.\n",
        "\n",
        "Os dados balanceados foram então utilizados para treinar e avaliar os modelos preditivos. O desempenho foi posteriormente analisado por meio de métricas como **precisão**, **recall**, **f1-score** e **matriz de confusão**, que serão apresentados nas próximas etapas.\n"
      ]
    },
    {
      "cell_type": "markdown",
      "metadata": {
        "id": "4JEQNT-tG1WC"
      },
      "source": [
        "## 🎯  <b><font color=\"MediumPurple\">Normalização ou Padronização (se necessário)</font></b>\n",
        "\n",
        "Avaliar a necessidade de normalizar ou padronizar os dados, conforme os modelos que serão aplicados.\n",
        "Modelos baseados em distância, como KNN, SVM, Regressão Logística e Redes Neurais, requerem esse pré-processamento.\n",
        "Já modelos baseados em árvore, como Decision Tree, Random Forest e XGBoost, não são sensíveis à escala dos dados."
      ]
    },
    {
      "cell_type": "code",
      "execution_count": 107,
      "metadata": {
        "id": "jl18F09lpKOl"
      },
      "outputs": [],
      "source": [
        "from sklearn.model_selection import train_test_split\n",
        "from sklearn.preprocessing import StandardScaler\n",
        "\n",
        "# Separar X e y\n",
        "X = dados.drop(columns=['Cancelamento'])\n",
        "y = dados['Cancelamento']\n",
        "\n",
        "# Dividir treino e teste (20%)\n",
        "X_train, X_test, y_train, y_test = train_test_split(\n",
        "    X, y, test_size=0.2, random_state=42, stratify=y)\n",
        "\n",
        "# Identificar colunas numéricas para padronizar\n",
        "colunas_numericas = ['Meses_de_Contrato', 'Valor_Mensal']\n",
        "\n",
        "# Criar cópias para não modificar original\n",
        "X_train_scaled = X_train.copy()\n",
        "X_test_scaled = X_test.copy()\n",
        "\n",
        "# Aplicar StandardScaler só nas colunas numéricas\n",
        "scaler = StandardScaler()\n",
        "X_train_scaled[colunas_numericas] = scaler.fit_transform(X_train[colunas_numericas])\n",
        "X_test_scaled[colunas_numericas] = scaler.transform(X_test[colunas_numericas])\n",
        "\n",
        "# Agora se pode usar X_train_scaled e X_test_scaled para treinar modelos sensíveis à escala.\n"
      ]
    },
    {
      "cell_type": "markdown",
      "metadata": {
        "id": "5AHJ9BRqPwnz"
      },
      "source": [
        "### ⚙️ **Normalização / Padronização dos Dados**\n",
        "\n",
        "Como parte do pré-processamento, foi aplicada a **padronização** dos atributos numéricos, utilizando a técnica `StandardScaler`, que transforma os dados para que tenham média zero e desvio padrão um.\n",
        "\n",
        "Esse passo é fundamental para o bom desempenho de algoritmos que são sensíveis à escala dos dados, como:\n",
        "\n",
        "- **KNN** (K-Nearest Neighbors)\n",
        "- **SVM** (Support Vector Machines)\n",
        "- **Regressão Logística**\n",
        "- **Redes Neurais**\n",
        "\n",
        "A padronização foi aplicada **apenas após o balanceamento das classes e a separação entre dados de treino e teste**, para evitar vazamento de dados e garantir que as transformações ocorram apenas com base nos dados de treino. Com isso, garantimos uma comparação justa e válida durante a avaliação dos modelos.\n"
      ]
    },
    {
      "cell_type": "markdown",
      "metadata": {
        "id": "6XnTC2NTmMRL"
      },
      "source": [
        "# 📊 <b><font color=\"MediumPurple\" size=\"6\">CORRELAÇÃO E SELEÇÃO DE VARIÁVEIS</font></b>\n",
        "\n"
      ]
    },
    {
      "cell_type": "markdown",
      "metadata": {
        "id": "L2M7m6l-3lPT"
      },
      "source": [
        "## 🎯 <b><font color=\"MediumPurple\">Análise de Correlação</font></b>\n",
        "\n",
        "Visualizar a matriz de correlação para identificar relações entre variáveis numéricas. Observando especialmente quais variáveis apresentam maior correlação com a evasão, pois elas podem ser fortes candidatas para o modelo preditivo."
      ]
    },
    {
      "cell_type": "code",
      "execution_count": 108,
      "metadata": {
        "colab": {
          "base_uri": "https://localhost:8080/",
          "height": 699
        },
        "id": "50gTdgwl38MI",
        "outputId": "eff2b35e-79be-4ed3-a443-8d302b71eda6"
      },
      "outputs": [
        {
          "data": {
            "image/png": "[encoded data removed]",
            "text/plain": [
              "<Figure size 1000x800 with 2 Axes>"
            ]
          },
          "metadata": {},
          "output_type": "display_data"
        }
      ],
      "source": [
        "# Identificar as colunas numéricas automaticamente\n",
        "colunas_numericas = dados.select_dtypes(include=['int64', 'float64']).columns.tolist()\n",
        "\n",
        "# Para garantir que a coluna alvo 'Cancelamento' esteja incluída\n",
        "if 'Cancelamento' not in colunas_numericas:\n",
        "    colunas_numericas.append('Cancelamento')\n",
        "\n",
        "# Criar um DataFrame apenas com as colunas numéricas\n",
        "dados_numericos = dados[colunas_numericas]\n",
        "\n",
        "\n",
        "# Calcular matriz de correlação\n",
        "corr = dados_numericos.corr()\n",
        "\n",
        "# Visualizar matriz de correlação\n",
        "plt.figure(figsize=(10, 8))\n",
        "sns.heatmap(corr, annot=True, cmap='viridis', fmt=\".2f\", square=True)\n",
        "plt.title('Matriz de Correlação das Variáveis Numéricas')\n",
        "plt.show()\n",
        "\n",
        "\n",
        "# Analisar correlação com evasão ---\n",
        "corr_com_alvo = corr['Cancelamento'].drop('Cancelamento').sort_values(ascending=False)\n"
      ]
    },
    {
      "cell_type": "markdown",
      "metadata": {
        "id": "kSepgLNcRsy0"
      },
      "source": [
        "### 🔍 **Análise de Correlação**\n",
        "\n",
        "Foi utilizada a matriz de correlação para identificar possíveis relações entre as variáveis numéricas e a variável-alvo `Cancelamento`. A análise permite identificar variáveis que apresentam maior influência na evasão dos clientes.\n",
        "\n",
        "A matriz de correlação retornou as variáveis `Meses_de_Contrato` e `Valor_Mensal`, pois são as únicas variáveis numéricas contínuas do conjunto de dados. As demais variáveis são majoritariamente binárias (indicadoras), o que limita sua visualização na matriz padrão.\n",
        "\n",
        "Para complementar, foi plotado um gráfico com as variáveis mais correlacionadas com `Cancelamento`, com o objetivo de enriquecer a análise e identificar fatores relevantes para a evasão:\n",
        "\n",
        " - A **correlação entre “Meses_de_Contrato” e “Valor_Mensal”  é fraca (0.25)**.\n",
        "\n",
        " - A **correlação entre “Meses_de_Contrato” e “Cancelamento”  é fraca (0.35)**.\n",
        "\n",
        " - A **correlação entre “Valor_Mensal” e “Cancelamento”  é fraca (0.19)**.\n",
        "\n",
        "🔎 *Isso sugere que não há uma relação linear forte entre o tempo de contrato e o valor pago mensalmente, e entre cada uma das variáveis com o cancelamento.*"
      ]
    },
    {
      "cell_type": "markdown",
      "metadata": {
        "id": "a-R6cVkTYdh8"
      },
      "source": [
        "## 🎯 <b><font color=\"MediumPurple\">Análise Direcionadas</font></b>\n",
        "\n",
        "Nesta etapa, analisamos como duas variáveis principais — **Meses de Contrato** e **Valor Mensal** — se comportam em relação ao **Cancelamento (Evasão)** dos clientes."
      ]
    },
    {
      "cell_type": "code",
      "execution_count": 109,
      "metadata": {
        "colab": {
          "base_uri": "https://localhost:8080/",
          "height": 607
        },
        "id": "OCh1OypZuPRk",
        "outputId": "43385830-5cda-412c-9ff1-dc95765e67d7"
      },
      "outputs": [
        {
          "data": {
            "image/png": "[encoded data removed]",
            "text/plain": [
              "<Figure size 1400x600 with 2 Axes>"
            ]
          },
          "metadata": {},
          "output_type": "display_data"
        }
      ],
      "source": [
        "# 1 linha, 2 colunas\n",
        "fig, axes = plt.subplots(1, 2, figsize=(14, 6))\n",
        "\n",
        "# Boxplot com hue e legend=False para evitar warning\n",
        "sns.boxplot(ax=axes[0], x='Cancelamento', y='Meses_de_Contrato', hue='Cancelamento', palette='viridis', data=dados, legend=False)\n",
        "axes[0].set_title('Tempo de Contrato por Evasão',fontsize=12)\n",
        "axes[0].set_ylabel('Meses de Contrato')\n",
        "\n",
        "sns.stripplot(ax=axes[1], x='Cancelamento', y='Valor_Mensal', hue='Cancelamento',jitter=True, alpha=0.5, data=dados, legend=False)\n",
        "axes[1].set_title('Valor Mensal por Evasão', fontsize=12)\n",
        "axes[1].set_ylabel('Valor Mensal')\n",
        "\n",
        "plt.tight_layout()\n",
        "\n",
        "# Aumenta o espaço horizontal entre os gráficos\n",
        "plt.subplots_adjust(hspace=0.5, wspace=0.3)\n",
        "plt.show()\n",
        "\n"
      ]
    },
    {
      "cell_type": "markdown",
      "metadata": {
        "id": "4APQrI7Waui4"
      },
      "source": [
        "### 🎯 **Análise Direcionada**\n",
        "\n",
        "\n",
        "\n",
        "---\n",
        "\n",
        "#### 📊 **Gráfico 1**: *Boxplot - Tempo de Contrato por Evasão*\n",
        "\n",
        "O **boxplot** apresenta a distribuição dos **meses de contrato** para clientes que **permaneceram (0)** e os que **evadiram (1)**.\n",
        "\n",
        "- A mediana (linha central da caixa) mostra a tendência central de cada grupo.\n",
        "- As caixas representam o intervalo interquartil (50% central dos dados).\n",
        "- Pontos fora da caixa (outliers) indicam clientes com tempos de contrato muito diferentes da maioria.\n",
        "\n",
        "⇣⇣⇣\n",
        "\n",
        "**🧐 Interpretação:**  \n",
        "Podemos observar que clientes que evadiram tendem a ter um **tempo de contrato menor** do que os que permaneceram. Isso pode indicar que a evasão ocorre mais frequentemente nos primeiros meses de contrato.\n",
        "\n",
        "---\n",
        "\n",
        "#### 🎯 **Gráfico 2**: *Stripplot - Valor Mensal por Evasão*\n",
        "\n",
        "O **stripplot** (também chamado de *scatter plot categórico*) mostra **cada cliente individualmente**, posicionando seus **valores mensais** em relação à evasão.\n",
        "\n",
        "- Cada ponto representa um cliente.\n",
        "- Os pontos estão \"espalhados\" horizontalmente (via `jitter`) para facilitar a visualização da densidade.\n",
        "\n",
        "⇣⇣⇣\n",
        "\n",
        "**🧐 Interpretação:**\n",
        "\n",
        "Apesar de haver sobreposição, é possível notar uma **concentração maior de valores mensais mais altos entre os clientes que evadiram (1)**, sugerindo que **valores mais elevados podem estar relacionados à evasão**.\n",
        "\n",
        "---\n",
        "\n",
        "Esses dois gráficos ajudam a entender melhor **quais fatores estão associados à decisão dos clientes em cancelar os serviços.**\n"
      ]
    },
    {
      "cell_type": "markdown",
      "metadata": {
        "id": "qgazSmjdcTQv"
      },
      "source": [
        "# 🤖 <b><font color=\"MediumPurple\" size=\"6\">MODELAGEM PREDITIVA</font></b>"
      ]
    },
    {
      "cell_type": "markdown",
      "metadata": {
        "id": "Mg2-go5O4HpK"
      },
      "source": [
        "## 🎯 <b><font color=\"MediumPurple\">Separação de Dados</font></b>\n",
        "\n",
        "Dividindo o conjunto de dados em treino e teste para avaliar o desempenho do modelo. Uma divisão comum é 70% para treino e 30% para teste, ou 80/20, dependendo do tamanho da base de dados."
      ]
    },
    {
      "cell_type": "code",
      "execution_count": 110,
      "metadata": {
        "id": "GyOUmV7T4QNm"
      },
      "outputs": [],
      "source": [
        "# Dividir treino e teste (20%)\n",
        "X_train, X_test, y_train, y_test = train_test_split(\n",
        "    X, y, test_size=0.2, random_state=42, stratify=y)"
      ]
    },
    {
      "cell_type": "markdown",
      "metadata": {
        "id": "qVbRZa7yGW7U"
      },
      "source": [
        "## 🎯 <b><font color=\"MediumPurple\">Criação de Modelos</font></b>\n",
        "\n",
        "Foi criado 4 modelos diferentes para prever a evasão de clientes:\n",
        "\n",
        " - *Regressão Logística* e *KNN* que exige normalização.\n",
        "\n",
        " - *Árvore de Decisão* e *Random Forest* que não exige normalização.\n"
      ]
    },
    {
      "cell_type": "code",
      "execution_count": 111,
      "metadata": {
        "colab": {
          "base_uri": "https://localhost:8080/"
        },
        "id": "YAeH_2hV4grD",
        "outputId": "79c55e98-f0d8-4224-e165-8ac695304ef2"
      },
      "outputs": [
        {
          "name": "stdout",
          "output_type": "stream",
          "text": [
            "🔍 REGRESSÃO LOGÍSTICA\n",
            "-----------------------\n",
            "[[930 103]\n",
            " [179 195]]\n",
            "              precision    recall  f1-score   support\n",
            "\n",
            "       False       0.84      0.90      0.87      1033\n",
            "        True       0.65      0.52      0.58       374\n",
            "\n",
            "    accuracy                           0.80      1407\n",
            "   macro avg       0.75      0.71      0.72      1407\n",
            "weighted avg       0.79      0.80      0.79      1407\n",
            "\n"
          ]
        }
      ],
      "source": [
        "# MODELO 1: Regressão Logística (com normalização)\n",
        "\n",
        "from sklearn.linear_model import LogisticRegression\n",
        "from sklearn.metrics import classification_report, confusion_matrix\n",
        "\n",
        "# Normalização apenas para o Modelo 1\n",
        "scaler = StandardScaler()\n",
        "X_train_norm = scaler.fit_transform(X_train)\n",
        "X_test_norm = scaler.transform(X_test)\n",
        "\n",
        "# Treinar modelo com dados normalizados\n",
        "modelo_log = LogisticRegression()\n",
        "modelo_log.fit(X_train_norm, y_train)\n",
        "\n",
        "# Previsões\n",
        "y_pred_log = modelo_log.predict(X_test_norm)\n",
        "\n",
        "# Avaliação\n",
        "print(\"🔍 REGRESSÃO LOGÍSTICA\")\n",
        "print(\"-\" * 23)\n",
        "print(confusion_matrix(y_test, y_pred_log))\n",
        "print(classification_report(y_test, y_pred_log))\n"
      ]
    },
    {
      "cell_type": "code",
      "execution_count": 112,
      "metadata": {
        "colab": {
          "base_uri": "https://localhost:8080/"
        },
        "id": "cEIdwQN1d5Dx",
        "outputId": "eac52b8b-5e86-4edf-ab8f-fe077af8461e"
      },
      "outputs": [
        {
          "name": "stdout",
          "output_type": "stream",
          "text": [
            "🌳 RANDOM FOREST\n",
            "-----------------\n",
            "[[936  97]\n",
            " [199 175]]\n",
            "              precision    recall  f1-score   support\n",
            "\n",
            "       False       0.82      0.91      0.86      1033\n",
            "        True       0.64      0.47      0.54       374\n",
            "\n",
            "    accuracy                           0.79      1407\n",
            "   macro avg       0.73      0.69      0.70      1407\n",
            "weighted avg       0.78      0.79      0.78      1407\n",
            "\n"
          ]
        }
      ],
      "source": [
        "# MODELO 2: Random Forest\n",
        "\n",
        "from sklearn.ensemble import RandomForestClassifier\n",
        "\n",
        "# Treinar modelo com dados originais\n",
        "modelo_rf = RandomForestClassifier(random_state=42)\n",
        "modelo_rf.fit(X_train, y_train)\n",
        "\n",
        "# Previsões\n",
        "y_pred_rf = modelo_rf.predict(X_test)\n",
        "\n",
        "# Avaliação\n",
        "print(\"🌳 RANDOM FOREST\")\n",
        "print(\"-\" * 17)\n",
        "print(confusion_matrix(y_test, y_pred_rf))\n",
        "print(classification_report(y_test, y_pred_rf))"
      ]
    },
    {
      "cell_type": "code",
      "execution_count": 113,
      "metadata": {
        "colab": {
          "base_uri": "https://localhost:8080/"
        },
        "id": "yvZ0kAdRgFOu",
        "outputId": "0d0f0105-f697-4391-9dc3-d4e6517ccab1"
      },
      "outputs": [
        {
          "name": "stdout",
          "output_type": "stream",
          "text": [
            "🔍 KNN\n",
            "----------\n",
            "[[880 153]\n",
            " [189 185]]\n",
            "              precision    recall  f1-score   support\n",
            "\n",
            "       False       0.82      0.85      0.84      1033\n",
            "        True       0.55      0.49      0.52       374\n",
            "\n",
            "    accuracy                           0.76      1407\n",
            "   macro avg       0.69      0.67      0.68      1407\n",
            "weighted avg       0.75      0.76      0.75      1407\n",
            "\n"
          ]
        }
      ],
      "source": [
        "# MODELO 3: KNN - K Vizinhos Mais Próximos (com normalização)\n",
        "from sklearn.neighbors import KNeighborsClassifier\n",
        "\n",
        "modelo_knn = KNeighborsClassifier(n_neighbors=5)\n",
        "modelo_knn.fit(X_train_norm, y_train)\n",
        "y_pred_knn = modelo_knn.predict(X_test_norm)\n",
        "\n",
        "# Avaliação\n",
        "print(\"🔍 KNN\")\n",
        "print(\"-\" * 10)\n",
        "print(confusion_matrix(y_test, y_pred_knn))\n",
        "print(classification_report(y_test, y_pred_knn))"
      ]
    },
    {
      "cell_type": "code",
      "execution_count": 114,
      "metadata": {
        "colab": {
          "base_uri": "https://localhost:8080/"
        },
        "id": "0g_CLpCUgE7-",
        "outputId": "edde7bd6-8375-4cc8-8b8e-bc4d65009b40"
      },
      "outputs": [
        {
          "name": "stdout",
          "output_type": "stream",
          "text": [
            "🌳 ÁRVORE DE DECISÃO\n",
            "---------------------\n",
            "[[833 200]\n",
            " [185 189]]\n",
            "              precision    recall  f1-score   support\n",
            "\n",
            "       False       0.82      0.81      0.81      1033\n",
            "        True       0.49      0.51      0.50       374\n",
            "\n",
            "    accuracy                           0.73      1407\n",
            "   macro avg       0.65      0.66      0.65      1407\n",
            "weighted avg       0.73      0.73      0.73      1407\n",
            "\n"
          ]
        }
      ],
      "source": [
        "# MODELO 4: Árvore de Decisão (sem normalização)\n",
        "from sklearn.tree import DecisionTreeClassifier\n",
        "\n",
        "modelo_dt = DecisionTreeClassifier(random_state=42)\n",
        "modelo_dt.fit(X_train, y_train)\n",
        "y_pred_dt = modelo_dt.predict(X_test)\n",
        "\n",
        "# Avaliação\n",
        "print(\"🌳 ÁRVORE DE DECISÃO\")\n",
        "print(\"-\" * 21)\n",
        "print(confusion_matrix(y_test, y_pred_dt))\n",
        "print(classification_report(y_test, y_pred_dt))\n"
      ]
    },
    {
      "cell_type": "code",
      "execution_count": 115,
      "metadata": {
        "colab": {
          "base_uri": "https://localhost:8080/",
          "height": 209
        },
        "id": "QJ5xNE6Ch2ae",
        "outputId": "b665d0ca-657b-43bf-f500-18e68c9b116b"
      },
      "outputs": [
        {
          "name": "stdout",
          "output_type": "stream",
          "text": [
            "📊 COMPARATIVO DE MODELOS\n",
            "--------------------------\n"
          ]
        },
        {
          "data": {
            "text/html": [
              "<div>\n",
              "<style scoped>\n",
              "    .dataframe tbody tr th:only-of-type {\n",
              "        vertical-align: middle;\n",
              "    }\n",
              "\n",
              "    .dataframe tbody tr th {\n",
              "        vertical-align: top;\n",
              "    }\n",
              "\n",
              "    .dataframe thead th {\n",
              "        text-align: right;\n",
              "    }\n",
              "</style>\n",
              "<table border=\"1\" class=\"dataframe\">\n",
              "  <thead>\n",
              "    <tr style=\"text-align: right;\">\n",
              "      <th></th>\n",
              "      <th>Modelo</th>\n",
              "      <th>Acurácia</th>\n",
              "      <th>Precisão</th>\n",
              "      <th>Recall</th>\n",
              "      <th>F1-Score</th>\n",
              "      <th>Matriz de Confusão</th>\n",
              "    </tr>\n",
              "  </thead>\n",
              "  <tbody>\n",
              "    <tr>\n",
              "      <th>0</th>\n",
              "      <td>Regressão Logística</td>\n",
              "      <td>0.7996</td>\n",
              "      <td>0.6544</td>\n",
              "      <td>0.5214</td>\n",
              "      <td>0.5804</td>\n",
              "      <td>[[930, 103], [179, 195]]</td>\n",
              "    </tr>\n",
              "    <tr>\n",
              "      <th>1</th>\n",
              "      <td>Random Forest</td>\n",
              "      <td>0.7896</td>\n",
              "      <td>0.6434</td>\n",
              "      <td>0.4679</td>\n",
              "      <td>0.5418</td>\n",
              "      <td>[[936, 97], [199, 175]]</td>\n",
              "    </tr>\n",
              "    <tr>\n",
              "      <th>2</th>\n",
              "      <td>KNN</td>\n",
              "      <td>0.7569</td>\n",
              "      <td>0.5473</td>\n",
              "      <td>0.4947</td>\n",
              "      <td>0.5197</td>\n",
              "      <td>[[880, 153], [189, 185]]</td>\n",
              "    </tr>\n",
              "    <tr>\n",
              "      <th>3</th>\n",
              "      <td>Árvore de Decisão</td>\n",
              "      <td>0.7264</td>\n",
              "      <td>0.4859</td>\n",
              "      <td>0.5053</td>\n",
              "      <td>0.4954</td>\n",
              "      <td>[[833, 200], [185, 189]]</td>\n",
              "    </tr>\n",
              "  </tbody>\n",
              "</table>\n",
              "</div>"
            ],
            "text/plain": [
              "                Modelo  Acurácia  Precisão  Recall  F1-Score  \\\n",
              "0  Regressão Logística    0.7996    0.6544  0.5214    0.5804   \n",
              "1        Random Forest    0.7896    0.6434  0.4679    0.5418   \n",
              "2                  KNN    0.7569    0.5473  0.4947    0.5197   \n",
              "3    Árvore de Decisão    0.7264    0.4859  0.5053    0.4954   \n",
              "\n",
              "         Matriz de Confusão  \n",
              "0  [[930, 103], [179, 195]]  \n",
              "1   [[936, 97], [199, 175]]  \n",
              "2  [[880, 153], [189, 185]]  \n",
              "3  [[833, 200], [185, 189]]  "
            ]
          },
          "metadata": {},
          "output_type": "display_data"
        }
      ],
      "source": [
        "import pandas as pd\n",
        "from sklearn.metrics import accuracy_score, precision_score, recall_score, f1_score, confusion_matrix\n",
        "\n",
        "# Função para gerar métricas + matriz de confusão como string\n",
        "def gerar_metricas(nome, modelo, X_test, y_test, y_pred):\n",
        "    cm = confusion_matrix(y_test, y_pred)\n",
        "    cm_str = f\"[[{cm[0][0]}, {cm[0][1]}], [{cm[1][0]}, {cm[1][1]}]]\"\n",
        "\n",
        "    return {\n",
        "        'Modelo': nome,\n",
        "        'Acurácia': accuracy_score(y_test, y_pred),\n",
        "        'Precisão': precision_score(y_test, y_pred),\n",
        "        'Recall': recall_score(y_test, y_pred),\n",
        "        'F1-Score': f1_score(y_test, y_pred),\n",
        "        'Matriz de Confusão': cm_str\n",
        "    }\n",
        "\n",
        "# Coletar métricas de todos os modelos\n",
        "resultados = [\n",
        "    gerar_metricas(\"Regressão Logística\", modelo_log, X_test_norm, y_test, y_pred_log),\n",
        "    gerar_metricas(\"Random Forest\", modelo_rf, X_test, y_test, y_pred_rf),\n",
        "    gerar_metricas(\"KNN\", modelo_knn, X_test_norm, y_test, y_pred_knn),\n",
        "    gerar_metricas(\"Árvore de Decisão\", modelo_dt, X_test, y_test, y_pred_dt)\n",
        "]\n",
        "\n",
        "# Criar DataFrame\n",
        "df_resultados = pd.DataFrame(resultados)\n",
        "df_resultados = df_resultados.sort_values(by='F1-Score', ascending=False)\n",
        "\n",
        "# Exibir a tabela\n",
        "print(\"📊 COMPARATIVO DE MODELOS\")\n",
        "print(\"-\" * 26)\n",
        "display(df_resultados.round(4))\n",
        "\n"
      ]
    },
    {
      "cell_type": "code",
      "execution_count": 116,
      "metadata": {
        "colab": {
          "base_uri": "https://localhost:8080/",
          "height": 607
        },
        "id": "5n3x9Lib862f",
        "outputId": "0f13f336-6cd6-44ee-c89f-cb8b79bf8be8"
      },
      "outputs": [
        {
          "data": {
            "image/png": "[encoded data removed]",
            "text/plain": [
              "<Figure size 1200x600 with 1 Axes>"
            ]
          },
          "metadata": {},
          "output_type": "display_data"
        }
      ],
      "source": [
        "# Criar DataFrame com os dados fornecidos\n",
        "dados_modelos = pd.DataFrame({\n",
        "    'Modelo': ['Regressão Logística', 'Random Forest', 'KNN', 'Árvore de Decisão'],\n",
        "    'Acurácia': [0.7996, 0.7896, 0.7569, 0.7264],\n",
        "    'Precisão': [0.6544, 0.6434, 0.5473, 0.4859],\n",
        "    'Recall': [0.5214, 0.4679, 0.4947, 0.5053],\n",
        "    'F1-Score': [0.5804, 0.5418, 0.5197, 0.4954]\n",
        "})\n",
        "\n",
        "# Plotar gráfico de barras para cada métrica\n",
        "dados_modelos.set_index('Modelo').plot(kind='bar', figsize=(12, 6), colormap='turbo')\n",
        "plt.title('Comparativo de Desempenho dos Modelos')\n",
        "plt.ylabel('Pontuação')\n",
        "plt.ylim(0, 1)\n",
        "plt.xticks(rotation=0)\n",
        "plt.grid(axis='y')\n",
        "plt.legend(title='Métricas')\n",
        "plt.tight_layout()\n",
        "plt.show()\n"
      ]
    },
    {
      "cell_type": "markdown",
      "metadata": {
        "id": "3eYSy4NheS5x"
      },
      "source": [
        "## 🤖  <b><font color=\"MediumPurple\">Avaliação dos Modelos </font></b>\n",
        "\n",
        "Para prever a evasão de clientes, foram utilizados **quatro modelos diferentes**, com e sem normalização. Cada modelo foi avaliado utilizando as seguintes métricas:\n",
        "\n",
        "- **Acurácia**  \n",
        "- **Precisão**  \n",
        "- **Recall**  \n",
        "- **F1-score**  \n",
        "- **Matriz de confusão**\n",
        "\n",
        "<br/>\n",
        "\n",
        "### 📌 **MODELO 1**: *Regressão Logística* (com normalização)\n",
        "\n",
        "- Modelo linear, indicado para **classificação binária**.  \n",
        "- Requer **normalização dos dados**, pois é sensível à escala das variáveis.  \n",
        "- Fácil de interpretar e útil para identificar variáveis relevantes.  \n",
        "- Serviu como **modelo base** e apresentou **o melhor desempenho geral** nas métricas.\n",
        "\n",
        "---\n",
        "\n",
        "### 📌 **MODELO 2**: *Random Forest* (sem normalização)\n",
        "\n",
        "- Modelo não linear baseado em múltiplas árvores de decisão.  \n",
        "- **Não precisa de normalização**, pois suas decisões são baseadas em cortes.  \n",
        "- Robusto contra overfitting e apto a capturar relações complexas entre variáveis.  \n",
        "- Teve desempenho sólido, porém com menor recall em comparação à regressão logística.\n",
        "\n",
        "---\n",
        "\n",
        "### 📌 **MODELO 3**: *KNN* – K Vizinhos Mais Próximos (com normalização)\n",
        "\n",
        "- Classifica os clientes com base na **distância dos vizinhos mais próximos**.  \n",
        "- Requer **normalização**, pois é altamente sensível à escala das variáveis.  \n",
        "- Simples e intuitivo, mas pode ter **performance inferior com dados desbalanceados**.  \n",
        "- Apresentou **métricas medianas** e sinal de **underfitting**.\n",
        "\n",
        "---\n",
        "\n",
        "### 📌 **MODELO 4**: *Árvore de Decisão* (sem normalização)\n",
        "\n",
        "- Modelo interpretável baseado em regras do tipo \"if-else\".  \n",
        "- **Não exige normalização**.  \n",
        "- Pode se ajustar bem aos dados, mas é suscetível ao **overfitting** se não regulado.  \n",
        "- Foi o modelo com **menor desempenho geral**, indicando **underfitting**.\n",
        "\n",
        "<br/>\n",
        "\n",
        "### 🏆 <b><font color=\"MediumPurple\">**CONCLUSÃO** </font></b>: Melhor Modelo é **Regressão Logística**\n",
        "\n",
        "Após aplicar e comparar os quatro modelos (Regressão Logística, Random Forest, KNN e Árvore de Decisão), considerando as métricas de desempenho (Acurácia, Precisão, Recall, F1-Score e Matriz de Confusão), conclui-se:\n",
        "\n",
        "- 🔹 **Regressão Logística** apresentou o melhor desempenho geral:\n",
        "  - Maior **acurácia (0.7996)** e **F1-Score (0.5804)**.\n",
        "  - Bom equilíbrio entre **precisão (0.6544)** e **recall (0.5214)**.\n",
        "  - Modelo simples, interpretável e eficiente, ideal para começar.\n",
        "\n",
        "- 🔹 **Random Forest** teve desempenho próximo, porém com recall mais baixo, o que pode impactar a detecção de clientes que realmente evadiriam.\n",
        "\n",
        "- 🔹 **KNN** e **Árvore de Decisão** apresentaram **desempenho inferior**, com menor F1-Score e sinais de **underfitting** (pouca capacidade de generalização).\n",
        "\n",
        "<br/>\n",
        "\n",
        "A <b><font color=\"MediumPurple\">**Regressão Logística** </font></b> é o modelo mais indicado neste cenário, combinando boa performance, fácil aplicação e excelente interpretabilidade para ações estratégicas nas empresas.\n",
        "\n"
      ]
    },
    {
      "cell_type": "markdown",
      "metadata": {
        "id": "4YlK7CwK7kNA"
      },
      "source": [
        "#🚀 <b><font color=\"darkviolet\" size=\"6\">INTERPRETAÇÃO & CONCLUSÃO</font></b>"
      ]
    },
    {
      "cell_type": "markdown",
      "metadata": {
        "id": "UPPlc0-MlXWu"
      },
      "source": [
        "## 🔍 <b><font color=\"MediumPurple\">Análise de Importância das Variáveis </font></b>\n",
        "\n",
        "O gráfico abaixo exibe as variáveis mais relevantes identificadas pelo modelo **Regressão Logística**, treinado com dados normalizados, para prever a **evasão de clientes**.\n",
        "\n",
        "As variáveis posicionadas no topo do gráfico apresentam **maior influência nas decisões do modelo**, com base na magnitude dos coeficientes. Isso significa que pequenas variações nessas variáveis têm um impacto significativo na probabilidade de um cliente cancelar os serviços.\n",
        "\n",
        "\n",
        "\n",
        "\n"
      ]
    },
    {
      "cell_type": "code",
      "execution_count": 117,
      "metadata": {
        "colab": {
          "base_uri": "https://localhost:8080/",
          "height": 607
        },
        "id": "xx0M_JyH3-gT",
        "outputId": "03f550fc-3409-4859-ee84-98dc202d49e0"
      },
      "outputs": [
        {
          "data": {
            "image/png": "[encoded data removed]",
            "text/plain": [
              "<Figure size 1000x600 with 1 Axes>"
            ]
          },
          "metadata": {},
          "output_type": "display_data"
        }
      ],
      "source": [
        "# Extrair coeficientes do modelo treinado\n",
        "coeficientes = modelo_log.coef_[0]\n",
        "\n",
        "# Importância: valor absoluto dos coeficientes\n",
        "importancias = np.abs(coeficientes)\n",
        "\n",
        "# Criar DataFrame com variáveis e suas importâncias\n",
        "df_importancias = pd.DataFrame({\n",
        "    'Variável': X_train.columns,\n",
        "    'Importância': importancias\n",
        "}).sort_values(by='Importância', ascending=False)\n",
        "\n",
        "# Plotar gráfico\n",
        "plt.figure(figsize=(10, 6))\n",
        "sns.barplot(\n",
        "    x='Importância',\n",
        "    y='Variável',\n",
        "    data=df_importancias,\n",
        "    color='mediumpurple'\n",
        ")\n",
        "plt.title('Importância das Variáveis - Regressão Logística')\n",
        "plt.xlabel('Importância - Coeficiente')\n",
        "plt.ylabel('Variáveis')\n",
        "plt.tight_layout()\n",
        "plt.show()"
      ]
    },
    {
      "cell_type": "markdown",
      "metadata": {
        "id": "2SvpqgIdfX1K"
      },
      "source": [
        "# 🧠 <b><font color=\"darkviolet\">Conclusão Geral da Análise</font></b>\n",
        "\n",
        "A análise preditiva de evasão de clientes realizada neste projeto possibilitou extrair insights valiosos sobre o comportamento dos usuários e os fatores que mais contribuem para o cancelamento dos serviços.\n",
        "\n",
        "<br/>\n",
        "\n",
        "#### ✅ <b><font color=\"MediumPurple\">Principais Conclusões:</font></b>\n",
        "\n",
        "- **O modelo Regressão Logística apresentou o melhor desempenho** entre os avaliados, alcançando acurácia de aproximadamente **79,96%**, além de melhores resultados nas métricas de **Precisão (65,44%)**, **Recall (52,14%)** e **F1-Score (58,04%)**, essenciais para identificar corretamente clientes propensos à evasão.\n",
        "- O modelo Random Forest, apesar de ter boa acurácia (78,96%), apresentou desempenho inferior nas métricas de precisão e recall, mostrando-se menos eficaz para o problema específico.\n",
        "- As variáveis com maior impacto na previsão incluem:\n",
        "  - **Tempo de Contrato**: clientes com menor tempo tendem a evadir mais.\n",
        "  - **Valor Mensal**: valores maiores influenciam negativamente a permanência.\n",
        "  - **Serviços adicionais** como segurança online, backup e suporte técnico mostraram relevância na modelagem.\n",
        "\n",
        "<br/>\n",
        "\n",
        "#### 🎯 <b><font color=\"MediumPurple\">Recomendações Estratégicas:</font></b>\n",
        "\n",
        "- **Desenvolver ações de retenção específicas** para clientes com contratos mais curtos e maior valor mensal, grupos que apresentam maior risco de evasão.\n",
        "- **Oferecer pacotes personalizados ou descontos progressivos** para aumentar o tempo de fidelização e reduzir a taxa de cancelamento.\n",
        "- **Utilizar o modelo de Regressão Logística para monitoramento contínuo** e antecipação de clientes com maior probabilidade de evasão, possibilitando intervenções proativas.\n",
        "\n",
        "<br/>\n",
        "\n",
        "> 🚀 Este projeto demonstra como técnicas de Machine Learning auxilia na compreensão de fatores essenciais para que a empresa possa **antecipar comportamentos de cancelamento** e direcionar **ações estratégicas de retenção**, como ofertas personalizadas, melhoria no atendimento ou revisão de pacotes de serviços.\n"
      ]
    }
  ],
  "metadata": {
    "accelerator": "GPU",
    "colab": {
      "collapsed_sections": [
        "4foVEKhrlqcH",
        "1lSZP8zmmGZu",
        "6XnTC2NTmMRL"
      ],
      "gpuType": "T4",
      "provenance": []
    },
    "kernelspec": {
      "display_name": "Python 3",
      "name": "python3"
    },
    "language_info": {
      "codemirror_mode": {
        "name": "ipython",
        "version": 3
      },
      "file_extension": ".py",
      "mimetype": "text/x-python",
      "name": "python",
      "nbconvert_exporter": "python",
      "pygments_lexer": "ipython3",
      "version": "3.13.3"
    }
  },
  "nbformat": 4,
  "nbformat_minor": 0
}
